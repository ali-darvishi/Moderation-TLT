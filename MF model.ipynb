{
 "cells": [
  {
   "cell_type": "code",
   "execution_count": 6,
   "metadata": {},
   "outputs": [],
   "source": [
    "import pandas as pd\n",
    "import numpy as np\n",
    "\n",
    "users = pd.read_csv('Total.csv')\n",
    "expert=pd.read_csv('Expert_NEUR2.csv')"
   ]
  },
  {
   "cell_type": "code",
   "execution_count": 7,
   "metadata": {},
   "outputs": [],
   "source": [
    "%matplotlib inline\n",
    "import matplotlib\n",
    "import matplotlib.pyplot as plt"
   ]
  },
  {
   "cell_type": "code",
   "execution_count": 8,
   "metadata": {},
   "outputs": [],
   "source": [
    "class MF():\n",
    "    \n",
    "    def __init__(self, R, K, alpha, beta, iterations):\n",
    "        \"\"\"\n",
    "        Perform matrix factorization to predict empty\n",
    "        entries in a matrix.\n",
    "        \n",
    "        Arguments\n",
    "        - R (ndarray)   : user-item rating matrix\n",
    "        - K (int)       : number of latent dimensions\n",
    "        - alpha (float) : learning rate\n",
    "        - beta (float)  : regularization parameter\n",
    "        \"\"\"\n",
    "        \n",
    "        self.R = R.astype(np.float64)\n",
    "        self.num_users, self.num_items = R.shape\n",
    "        self.K = K\n",
    "        self.alpha = alpha\n",
    "        self.beta = beta\n",
    "        self.iterations = iterations\n",
    "\n",
    "    def train(self):\n",
    "        # Initialize user and item latent feature matrice\n",
    "        self.P = np.random.normal(scale=1./self.K, size=(self.num_users, self.K)).astype(np.float64)\n",
    "        self.Q = np.random.normal(scale=1./self.K, size=(self.num_items, self.K)).astype(np.float64)\n",
    "#         print(type(self.P[0][0]), type(self.P))\n",
    "#         print(type(self.Q[0][0]), type(self.Q))\n",
    "#         return\n",
    "        \n",
    "        # Initialize the biases\n",
    "        self.b_u = np.zeros(self.num_users).astype(np.float64)\n",
    "        self.b_i = np.zeros(self.num_items).astype(np.float64)\n",
    "        self.b = np.mean(self.R[np.where(self.R != 0)]).astype(np.float64)\n",
    "        \n",
    "        # Create a list of training samples\n",
    "        self.samples = [\n",
    "            (i, j, self.R[i, j])\n",
    "            for i in range(self.num_users)\n",
    "            for j in range(self.num_items)\n",
    "            if self.R[i, j] > 0\n",
    "        ]\n",
    "        \n",
    "        # Perform stochastic gradient descent for number of iterations\n",
    "        training_process = []\n",
    "        for i in range(self.iterations):\n",
    "            np.random.shuffle(self.samples)\n",
    "            self.sgd()\n",
    "            mse = self.mse()\n",
    "            training_process.append((i, mse))\n",
    "#             if (i+1) % 10 == 0:\n",
    "#                 print(\"Iteration: %d ; error = %.4f\" % (i+1, mse))\n",
    "        \n",
    "        return training_process\n",
    "\n",
    "    def mse(self):\n",
    "        \"\"\"\n",
    "        A function to compute the total mean square error\n",
    "        \"\"\"\n",
    "        xs, ys = self.R.nonzero()\n",
    "        predicted = self.full_matrix()\n",
    "        error = 0\n",
    "        for x, y in zip(xs, ys):\n",
    "            error += pow(self.R[x, y] - predicted[x, y], 2)\n",
    "        return np.sqrt(error)\n",
    "\n",
    "    def sgd(self):\n",
    "        \"\"\"\n",
    "        Perform stochastic graident descent\n",
    "        \"\"\"\n",
    "        for i, j, r in self.samples:\n",
    "            # Computer prediction and error\n",
    "            prediction = self.get_rating(i, j)\n",
    "            e = (r - prediction)\n",
    "            \n",
    "            # Update biases\n",
    "            self.b_u[i] += self.alpha * (e - self.beta * self.b_u[i])\n",
    "            self.b_i[j] += self.alpha * (e - self.beta * self.b_i[j])\n",
    "            \n",
    "            # Create copy of row of P since we need to update it but use older values for update on Q\n",
    "            P_i = self.P[i, :][:]\n",
    "            \n",
    "            # Update user and item latent feature matrices\n",
    "#             print(self.alpha, e, self.Q[j, :], self.beta, self.P[i,:])\n",
    "            self.P[i, :] += self.alpha * (e * self.Q[j, :] - self.beta * self.P[i,:])\n",
    "            self.Q[j, :] += self.alpha * (e * P_i - self.beta * self.Q[j,:])\n",
    "\n",
    "    def get_rating(self, i, j):\n",
    "        \"\"\"\n",
    "        Get the predicted rating of user i and item j\n",
    "        \"\"\"\n",
    "        prediction = self.b + self.b_u[i] + self.b_i[j] + self.P[i, :].dot(self.Q[j, :].T)\n",
    "        return prediction\n",
    "    \n",
    "    def full_matrix(self):\n",
    "        \"\"\"\n",
    "        Computer the full matrix using the resultant biases, P and Q\n",
    "        \"\"\"\n",
    "        return mf.b + mf.b_u[:,np.newaxis] + mf.b_i[np.newaxis:,] + mf.P.dot(mf.Q.T)\n"
   ]
  },
  {
   "cell_type": "markdown",
   "metadata": {},
   "source": [
    "# Moderation Matrix"
   ]
  },
  {
   "cell_type": "code",
   "execution_count": 9,
   "metadata": {},
   "outputs": [],
   "source": [
    "uId=np.unique(users['User_ID'])\n",
    "rId=np.unique(users['Resource_ID'])"
   ]
  },
  {
   "cell_type": "code",
   "execution_count": 10,
   "metadata": {},
   "outputs": [],
   "source": [
    "RQ =np.zeros((len(uId)+1,len(rId)))\n",
    "for i in range(len(rId)): #len(rId)\n",
    "    \n",
    "    Ri=users[users.Resource_ID==rId[i]]\n",
    "    for j in range(len(Ri)):\n",
    "        k=np.where(uId == Ri.iloc[j]['User_ID'])[0][0]\n",
    "        RQ[k][i]=Ri.iloc[j]['Decision']"
   ]
  },
  {
   "cell_type": "markdown",
   "metadata": {},
   "source": [
    "# Spot Checks "
   ]
  },
  {
   "cell_type": "code",
   "execution_count": 11,
   "metadata": {},
   "outputs": [
    {
     "name": "stdout",
     "output_type": "stream",
     "text": [
      "[1, 19, 24, 26, 29, 30, 34, 37, 42, 56, 60, 61, 66, 70, 74, 77, 82, 86, 118, 119, 120, 127, 132, 140, 176, 213, 217, 218, 222, 223, 227, 234, 235, 246, 256, 282, 290, 298, 305, 310, 314, 322, 341, 349, 386, 403, 408, 427, 471, 474, 504, 514, 545, 547, 564, 610, 612, 619, 627, 632, 633, 637, 638, 639, 642, 646, 653, 656, 657, 668, 671, 676, 681, 696, 716, 719, 722, 724, 748, 754, 760, 768, 774, 776, 777, 778, 779, 782, 790, 795, 799, 803, 804, 806, 807, 809, 810, 812, 816, 817, 818, 821, 822, 823, 864, 882, 896, 913, 915, 921, 929, 936, 983, 988, 990, 991, 994, 996, 1001, 1014, 1027, 1054, 1077, 1084, 1150, 1170, 1196, 1238, 1240, 1241, 1244, 1246, 1247, 1252, 1254, 1256, 1257, 1258, 1259, 1260, 1261, 1262, 1264, 1265, 1266, 1267, 1269, 1270, 1271, 1277, 1291, 1331, 1335, 1338, 1348, 1374, 1375, 1378, 1380, 1382, 1383, 1385, 1387, 1393, 1394, 1395, 1399, 1404, 1422, 1425, 1427, 1451, 1464, 1478, 1487, 1496, 1533, 1539, 1546, 1571, 1639, 1641, 1644, 1648, 1653, 1684, 1692, 1701, 1706, 1711, 1720, 1721, 1723, 1725, 1726, 1727, 1729, 1732, 1734, 1739, 1748, 1757, 1760, 1763, 1767, 1768, 1773, 1783, 1787, 1789, 1790, 1791, 1792, 1793, 1796, 1801, 1803, 1804, 1805, 1809, 1810, 1813, 1816, 1817, 1828, 1833, 1837, 1841, 1843, 1844, 1845, 1847, 1851, 1854, 1855, 1856, 1857, 1858, 1864, 1871, 1879, 1881, 1884, 1891, 1945, 2031, 2072, 2074, 2082, 2099, 2125, 2186, 2187, 2197, 2223, 2225, 2227, 2229, 2230, 2231, 2233, 2235, 2239, 2240, 2241, 2242, 2244, 2246, 2247, 2248, 2250, 2251, 2256, 2257, 2258, 2259, 2261, 2264, 2266, 2268, 2270, 2271, 2272, 2273, 2275, 2276, 2278, 2279, 2281, 2282, 2284, 2287, 2289, 2290, 2291, 2292, 2318, 2330, 2337, 2359, 2402, 2430, 2605]\n"
     ]
    },
    {
     "data": {
      "text/plain": [
       "303"
      ]
     },
     "execution_count": 11,
     "metadata": {},
     "output_type": "execute_result"
    }
   ],
   "source": [
    "z=[]\n",
    "for i in range(len(rId)):\n",
    "        if np.any(rId[i] == expert['Resource_ID']):\n",
    "            z.append(i)\n",
    "print(z)\n",
    "len(z)"
   ]
  },
  {
   "cell_type": "code",
   "execution_count": 12,
   "metadata": {},
   "outputs": [
    {
     "data": {
      "image/png": "[encoded data removed]",
      "text/plain": [
       "<Figure size 432x288 with 1 Axes>"
      ]
     },
     "metadata": {
      "needs_background": "light"
     },
     "output_type": "display_data"
    }
   ],
   "source": [
    "fig, ax = plt.subplots()\n",
    "ax.plot(z)\n",
    "plt.show()"
   ]
  },
  {
   "cell_type": "markdown",
   "metadata": {},
   "source": [
    "# MF for expert judgment prediction"
   ]
  },
  {
   "cell_type": "code",
   "execution_count": 13,
   "metadata": {
    "scrolled": true
   },
   "outputs": [],
   "source": [
    "res=[]\n",
    "ex=[]\n",
    "no=[]\n",
    "RQt=RQ\n",
    "for i in range(len(rId)): #len(rId)\n",
    "    R=[]\n",
    "    if np.any(rId[i] == expert['Resource_ID']):\n",
    "        R=RQt[:,0:i+1]\n",
    "        mf = MF(R, K=2, alpha=0.05, beta=0.01, iterations=20)\n",
    "        training_process = mf.train()\n",
    "        res.append(mf.full_matrix()[len(uId)][i])\n",
    "        RQt[len(uId)][i]=(expert[expert['Resource_ID']==rId[i]].Decision)\n",
    "        ex.append(int(expert[expert['Resource_ID']==rId[i]].Decision))\n",
    "        no.append(rId[i])"
   ]
  },
  {
   "cell_type": "code",
   "execution_count": 14,
   "metadata": {},
   "outputs": [],
   "source": [
    "MF_out=pd.DataFrame({'Resource_ID': no, 'Expert': ex, 'infer':res})\n",
    "MF_out.to_csv('MF_out.csv',index=False)\n"
   ]
  },
  {
   "cell_type": "code",
   "execution_count": 294,
   "metadata": {},
   "outputs": [],
   "source": [
    "MF_out.Expert=MF_out.apply(func=lambda x:int(x['Expert']),axis=1)"
   ]
  },
  {
   "cell_type": "code",
   "execution_count": 281,
   "metadata": {},
   "outputs": [
    {
     "data": {
      "text/plain": [
       "4"
      ]
     },
     "execution_count": 281,
     "metadata": {},
     "output_type": "execute_result"
    }
   ],
   "source": [
    "int(expert[expert['Resource_ID']==rId[i]]['Decision'])"
   ]
  },
  {
   "cell_type": "code",
   "execution_count": 271,
   "metadata": {},
   "outputs": [
    {
     "name": "stdout",
     "output_type": "stream",
     "text": [
      "[25120, 25912, 25944, 26051, 26236, 26360]\n",
      "[4.425782093792548, 3.729991955543409, 3.3393354672715225, 3.54312209342095, 1.6418478385663735, 2.9354995512124398]\n",
      "[75    4\n",
      "Name: Decision, dtype: int64, 76    5\n",
      "Name: Decision, dtype: int64, 0    2\n",
      "Name: Decision, dtype: int64, 49    1\n",
      "Name: Decision, dtype: int64, 1    4\n",
      "Name: Decision, dtype: int64, 2    2\n",
      "Name: Decision, dtype: int64]\n"
     ]
    }
   ],
   "source": [
    "# np.savetxt('RQt.txt', RQt)\n",
    "np.savetxt('mf.txt',mf.full_matrix())\n",
    "print(no)\n",
    "print(res)\n",
    "print(ex)"
   ]
  },
  {
   "cell_type": "code",
   "execution_count": 240,
   "metadata": {},
   "outputs": [
    {
     "name": "stdout",
     "output_type": "stream",
     "text": [
      "Iteration: 10 ; error = 1.6402\n",
      "Iteration: 20 ; error = 0.9074\n"
     ]
    },
    {
     "data": {
      "text/plain": [
       "4.58171345296314"
      ]
     },
     "execution_count": 240,
     "metadata": {},
     "output_type": "execute_result"
    }
   ],
   "source": [
    "R=RQ[:,0:4]\n",
    "mf = MF(R, K=2, alpha=0.1, beta=0.01, iterations=20)\n",
    "training_process = mf.train()\n",
    "(mf.full_matrix()[len(uId)-1][3])"
   ]
  },
  {
   "cell_type": "code",
   "execution_count": 232,
   "metadata": {},
   "outputs": [
    {
     "data": {
      "text/html": [
       "<div>\n",
       "<style scoped>\n",
       "    .dataframe tbody tr th:only-of-type {\n",
       "        vertical-align: middle;\n",
       "    }\n",
       "\n",
       "    .dataframe tbody tr th {\n",
       "        vertical-align: top;\n",
       "    }\n",
       "\n",
       "    .dataframe thead th {\n",
       "        text-align: right;\n",
       "    }\n",
       "</style>\n",
       "<table border=\"1\" class=\"dataframe\">\n",
       "  <thead>\n",
       "    <tr style=\"text-align: right;\">\n",
       "      <th></th>\n",
       "      <th>Resource_ID</th>\n",
       "      <th>Decision</th>\n",
       "    </tr>\n",
       "  </thead>\n",
       "  <tbody>\n",
       "    <tr>\n",
       "      <th>0</th>\n",
       "      <td>25944</td>\n",
       "      <td>2</td>\n",
       "    </tr>\n",
       "    <tr>\n",
       "      <th>1</th>\n",
       "      <td>26236</td>\n",
       "      <td>4</td>\n",
       "    </tr>\n",
       "    <tr>\n",
       "      <th>2</th>\n",
       "      <td>26360</td>\n",
       "      <td>2</td>\n",
       "    </tr>\n",
       "    <tr>\n",
       "      <th>3</th>\n",
       "      <td>26572</td>\n",
       "      <td>4</td>\n",
       "    </tr>\n",
       "    <tr>\n",
       "      <th>4</th>\n",
       "      <td>26603</td>\n",
       "      <td>2</td>\n",
       "    </tr>\n",
       "    <tr>\n",
       "      <th>...</th>\n",
       "      <td>...</td>\n",
       "      <td>...</td>\n",
       "    </tr>\n",
       "    <tr>\n",
       "      <th>107</th>\n",
       "      <td>31367</td>\n",
       "      <td>5</td>\n",
       "    </tr>\n",
       "    <tr>\n",
       "      <th>108</th>\n",
       "      <td>31376</td>\n",
       "      <td>4</td>\n",
       "    </tr>\n",
       "    <tr>\n",
       "      <th>109</th>\n",
       "      <td>31616</td>\n",
       "      <td>5</td>\n",
       "    </tr>\n",
       "    <tr>\n",
       "      <th>110</th>\n",
       "      <td>31721</td>\n",
       "      <td>5</td>\n",
       "    </tr>\n",
       "    <tr>\n",
       "      <th>111</th>\n",
       "      <td>28536</td>\n",
       "      <td>3</td>\n",
       "    </tr>\n",
       "  </tbody>\n",
       "</table>\n",
       "<p>112 rows × 2 columns</p>\n",
       "</div>"
      ],
      "text/plain": [
       "     Resource_ID  Decision\n",
       "0          25944         2\n",
       "1          26236         4\n",
       "2          26360         2\n",
       "3          26572         4\n",
       "4          26603         2\n",
       "..           ...       ...\n",
       "107        31367         5\n",
       "108        31376         4\n",
       "109        31616         5\n",
       "110        31721         5\n",
       "111        28536         3\n",
       "\n",
       "[112 rows x 2 columns]"
      ]
     },
     "execution_count": 232,
     "metadata": {},
     "output_type": "execute_result"
    }
   ],
   "source": [
    "expert"
   ]
  },
  {
   "cell_type": "code",
   "execution_count": 151,
   "metadata": {},
   "outputs": [
    {
     "name": "stdout",
     "output_type": "stream",
     "text": [
      "Iteration: 10 ; error = 27.9798\n",
      "Iteration: 20 ; error = 21.8512\n"
     ]
    }
   ],
   "source": [
    "mf = MF(RQ, K=2, alpha=0.1, beta=0.01, iterations=20)\n",
    "training_process = mf.train()"
   ]
  },
  {
   "cell_type": "code",
   "execution_count": 138,
   "metadata": {},
   "outputs": [
    {
     "name": "stdout",
     "output_type": "stream",
     "text": [
      "P x Q:\n",
      "[[3.91323902 4.47829839 1.90737227 ... 3.25525757 4.86735811 3.62415175]\n",
      " [3.75939233 4.39018267 1.72792071 ... 3.41130484 4.81799056 3.49817697]\n",
      " [4.03391535 4.68992009 3.51613312 ... 5.67558656 3.57999848 3.79506151]\n",
      " ...\n",
      " [3.76576239 4.36154347 1.69186167 ... 3.18377064 4.82585039 3.48927259]\n",
      " [4.21330016 4.56976171 3.17639323 ... 3.66197289 3.93120611 3.84256076]\n",
      " [3.84612185 4.2363753  2.77999119 ... 3.4343869  3.6341069  3.48958822]]\n"
     ]
    }
   ],
   "source": [
    "print(\"P x Q:\")\n",
    "print(mf.full_matrix())"
   ]
  },
  {
   "cell_type": "code",
   "execution_count": 148,
   "metadata": {},
   "outputs": [
    {
     "data": {
      "text/plain": [
       "3.489588217251056"
      ]
     },
     "execution_count": 148,
     "metadata": {},
     "output_type": "execute_result"
    }
   ],
   "source": [
    "mf.full_matrix()[len(uId)-1][len(rId)-1]"
   ]
  }
 ],
 "metadata": {
  "kernelspec": {
   "display_name": "Python 3",
   "language": "python",
   "name": "python3"
  },
  "language_info": {
   "codemirror_mode": {
    "name": "ipython",
    "version": 3
   },
   "file_extension": ".py",
   "mimetype": "text/x-python",
   "name": "python",
   "nbconvert_exporter": "python",
   "pygments_lexer": "ipython3",
   "version": "3.8.3"
  }
 },
 "nbformat": 4,
 "nbformat_minor": 4
}
