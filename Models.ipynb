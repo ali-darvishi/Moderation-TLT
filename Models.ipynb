{
 "cells": [
  {
   "cell_type": "code",
   "execution_count": 1,
   "metadata": {},
   "outputs": [
    {
     "name": "stderr",
     "output_type": "stream",
     "text": [
      "Warning message:\n",
      "\"package 'readr' was built under R version 3.6.3\"Warning message:\n",
      "\"package 'dplyr' was built under R version 3.6.3\"\n",
      "Attaching package: 'dplyr'\n",
      "\n",
      "The following objects are masked from 'package:stats':\n",
      "\n",
      "    filter, lag\n",
      "\n",
      "The following objects are masked from 'package:base':\n",
      "\n",
      "    intersect, setdiff, setequal, union\n",
      "\n",
      "Warning message:\n",
      "\"package 'ROCR' was built under R version 3.6.3\"Parsed with column specification:\n",
      "cols(\n",
      "  .default = col_double(),\n",
      "  `User Course ID` = col_character(),\n",
      "  `Data Consent` = col_logical(),\n",
      "  Role = col_character(),\n",
      "  `Created At` = col_datetime(format = \"\"),\n",
      "  UsedInDecision = col_logical(),\n",
      "  Outcome = col_character(),\n",
      "  Comment = col_character()\n",
      ")\n",
      "See spec(...) for full column specifications.\n",
      "Parsed with column specification:\n",
      "cols(\n",
      "  Resource_ID = col_double(),\n",
      "  User_ID = col_double(),\n",
      "  `User Course ID` = col_character(),\n",
      "  `Data Consent` = col_logical(),\n",
      "  Role = col_character(),\n",
      "  `Created At` = col_datetime(format = \"\"),\n",
      "  UsedInDecision = col_logical(),\n",
      "  Outcome = col_character(),\n",
      "  Content = col_double(),\n",
      "  Correctness = col_double(),\n",
      "  Difficulty = col_double(),\n",
      "  `C-Thinking` = col_double(),\n",
      "  Decision = col_double(),\n",
      "  Confidence = col_double(),\n",
      "  Comment = col_character()\n",
      ")\n"
     ]
    },
    {
     "name": "stdout",
     "output_type": "stream",
     "text": [
      "[1] \"Total\"\n",
      "Rows: 30,256\n",
      "Columns: 25\n",
      "$ Resource_ID        <dbl> 42586, 42591, 42592, 42595, 42596, 42597, 42599,...\n",
      "$ User_ID            <dbl> 17356, 17356, 17356, 17356, 17356, 17356, 17356,...\n",
      "$ `User Course ID`   <chr> \"s46425058\", \"s46425058\", \"s46425058\", \"s4642505...\n",
      "$ `Data Consent`     <lgl> FALSE, FALSE, FALSE, FALSE, FALSE, FALSE, FALSE,...\n",
      "$ Role               <chr> \"Moderator\", \"Moderator\", \"Moderator\", \"Moderato...\n",
      "$ `Created At`       <dttm> 2020-08-05 19:34:00, 2020-08-05 19:47:00, 2020-...\n",
      "$ UsedInDecision     <lgl> TRUE, TRUE, TRUE, TRUE, TRUE, TRUE, TRUE, TRUE, ...\n",
      "$ Outcome            <chr> \"Approved\", \"Denied\", \"Approved\", \"Approved\", \"A...\n",
      "$ Content            <dbl> 5, 5, 5, 5, 5, 5, 5, 5, 5, 5, 5, 5, 5, 5, 5, 5, ...\n",
      "$ Correctness        <dbl> 5, 5, 5, 4, 5, 5, 5, 5, 5, 5, 5, 5, 5, 5, 5, 5, ...\n",
      "$ Difficulty         <dbl> 5, 4, 5, 5, 4, 4, 5, 5, 4, 4, 5, 5, 4, 3, 4, 4, ...\n",
      "$ `C-Thinking`       <dbl> 4, 5, 5, 5, 5, 5, 5, 5, 5, 5, 5, 5, 5, 3, 4, 3, ...\n",
      "$ Decision           <dbl> 5, 5, 5, 4, 5, 4, 5, 5, 5, 5, 5, 5, 5, 4, 4, 4, ...\n",
      "$ Confidence         <dbl> 5, 5, 5, 4, 5, 3, 5, 5, 5, 5, 3, 5, 5, 4, 4, 3, ...\n",
      "$ Comment            <chr> \"The question is quite straightforward and relev...\n",
      "$ engagement         <dbl> 14, 17, 20, 15, 19, 22, 16, 18, 21, 23, 45, 46, ...\n",
      "$ correctness        <dbl> 9, 12, 13, 10, 13, 15, 11, 12, 14, 16, 27, 28, 2...\n",
      "$ topic_engagement   <dbl> 8, 10, 11, 7, 9, 12, 9, 8, 10, 11, 18, 19, 19, 2...\n",
      "$ topic_correctness  <dbl> 5, 7, 7, 5, 6, 8, 6, 5, 7, 8, 13, 14, 14, 15, 14...\n",
      "$ N_moderation       <dbl> 1, 4, 7, 2, 6, 9, 3, 5, 8, 10, 11, 14, 19, 17, 1...\n",
      "$ N_topic_moderation <dbl> 1, 3, 4, 1, 3, 5, 2, 2, 4, 5, 6, 7, 10, 9, 9, 6,...\n",
      "$ GLEU               <dbl> 0.000000000, 0.007751938, 0.026666667, 0.0240000...\n",
      "$ similarity         <dbl> 0.40069662, 0.63643384, 0.39830449, 0.54813642, ...\n",
      "$ Sentiment          <dbl> 0.5033931471, 0.1871248145, 0.1596030846, 0.1127...\n",
      "$ Words              <dbl> 49, 65, 38, 63, 63, 26, 58, 49, 54, 56, 11, 26, ...\n",
      "[1] \"Expert\"\n",
      "Rows: 303\n",
      "Columns: 15\n",
      "$ Resource_ID      <dbl> 42351, 42437, 42595, 42596, 42613, 42672, 42897, 4...\n",
      "$ User_ID          <dbl> 17213, 17213, 17213, 17213, 17213, 17213, 17213, 1...\n",
      "$ `User Course ID` <chr> \"uqrcunni\", \"uqrcunni\", \"uqrcunni\", \"uqrcunni\", \"u...\n",
      "$ `Data Consent`   <lgl> FALSE, FALSE, FALSE, FALSE, FALSE, FALSE, FALSE, F...\n",
      "$ Role             <chr> \"Moderator\", \"Moderator\", \"Moderator\", \"Moderator\"...\n",
      "$ `Created At`     <dttm> 2020-08-06 10:44:00, 2020-08-06 10:47:00, 2020-08...\n",
      "$ UsedInDecision   <lgl> TRUE, TRUE, TRUE, TRUE, TRUE, TRUE, TRUE, TRUE, TR...\n",
      "$ Outcome          <chr> \"Approved\", \"Approved\", \"Approved\", \"Approved\", \"A...\n",
      "$ Content          <dbl> 4, 4, 4, 5, 4, 5, 4, 4, 5, 4, 3, 3, 4, 4, 4, 4, 4,...\n",
      "$ Correctness      <dbl> 4, 4, 4, 4, 4, 2, 4, 2, 2, 2, 1, 2, 5, 2, 2, 2, 3,...\n",
      "$ Difficulty       <dbl> 4, 5, 3, 5, 3, 4, 3, 3, 5, 3, 2, 2, 4, 3, 4, 3, 3,...\n",
      "$ `C-Thinking`     <dbl> 3, 4, 3, 4, 2, 4, 3, 2, 4, 3, 2, 2, 4, 3, 4, 2, 3,...\n",
      "$ Decision         <dbl> 4, 4, 4, 4, 3, 2, 3, 2, 2, 2, 1, 2, 4, 2, 2, 2, 3,...\n",
      "$ Confidence       <dbl> 5, 5, 5, 5, 5, 5, 5, 5, 5, 5, 5, 5, 5, 5, 5, 5, 1,...\n",
      "$ Comment          <chr> NA, NA, NA, NA, NA, \"5% is an \\\"acceptable\\\" rate,...\n"
     ]
    }
   ],
   "source": [
    "library(readr)\n",
    "library(dplyr)\n",
    "library(\"ROCR\")\n",
    "\n",
    "Total <- read_csv(\"Total_engagement_Sim_all.csv\")\n",
    "Expert <- read_csv(\"Expert.csv\")\n",
    "\n",
    "print('Total');glimpse(Total)\n",
    "print('Expert');glimpse(Expert)\n"
   ]
  },
  {
   "cell_type": "code",
   "execution_count": 2,
   "metadata": {},
   "outputs": [],
   "source": [
    "# library('sentimentr')\n",
    "# sen<-sentiment_by(get_sentences(Total$Comment))\n",
    "# Total$Sentiment<-sen$ave_sentiment\n",
    "# Total$Words<-sen$word_count\n",
    "# glimpse(Total)\n",
    "# write.csv(Total,'Total_engagement_Sim_all.csv', row.names=FALSE)"
   ]
  },
  {
   "cell_type": "code",
   "execution_count": 3,
   "metadata": {},
   "outputs": [
    {
     "data": {
      "text/plain": [
       "\n",
       " 1  2  3  4  5 \n",
       "30 85 89 95  4 "
      ]
     },
     "metadata": {},
     "output_type": "display_data"
    }
   ],
   "source": [
    "(table(Expert$Decision))"
   ]
  },
  {
   "cell_type": "code",
   "execution_count": 4,
   "metadata": {},
   "outputs": [
    {
     "data": {
      "text/html": [
       "188"
      ],
      "text/latex": [
       "188"
      ],
      "text/markdown": [
       "188"
      ],
      "text/plain": [
       "[1] 188"
      ]
     },
     "metadata": {},
     "output_type": "display_data"
    },
    {
     "data": {
      "text/html": [
       "115"
      ],
      "text/latex": [
       "115"
      ],
      "text/markdown": [
       "115"
      ],
      "text/plain": [
       "[1] 115"
      ]
     },
     "metadata": {},
     "output_type": "display_data"
    }
   ],
   "source": [
    "89 +95+  4\n",
    "30+ 85"
   ]
  },
  {
   "cell_type": "code",
   "execution_count": 5,
   "metadata": {},
   "outputs": [],
   "source": [
    "`%notin%` = Negate(`%in%`)"
   ]
  },
  {
   "cell_type": "code",
   "execution_count": 6,
   "metadata": {},
   "outputs": [
    {
     "name": "stdout",
     "output_type": "stream",
     "text": [
      " num [1:2757] 42586 42591 42592 42595 42596 ...\n",
      "[1] \"expert\"\n",
      "Rows: 303\n",
      "Columns: 2\n",
      "$ Resource_ID <dbl> 42351, 42437, 42595, 42596, 42613, 42672, 42897, 42900,...\n",
      "$ Decision    <dbl> 4, 4, 4, 4, 3, 2, 3, 2, 2, 2, 1, 2, 4, 2, 2, 2, 3, 3, 2...\n",
      "Rows: 30,256\n",
      "Columns: 3\n",
      "$ Resource_ID <dbl> 42586, 42591, 42592, 42595, 42596, 42597, 42599, 42601,...\n",
      "$ User_ID     <dbl> 17356, 17356, 17356, 17356, 17356, 17356, 17356, 17356,...\n",
      "$ Decision    <dbl> 5, 5, 5, 4, 5, 4, 5, 5, 5, 5, 5, 5, 5, 4, 4, 4, 4, 5, 4...\n",
      " num [1:527] 17356 17358 17372 17382 17383 ...\n"
     ]
    }
   ],
   "source": [
    "q_id=unique(Total$Resource_ID)#[1:16]\n",
    "glimpse(q_id)\n",
    "print('expert')\n",
    "# Expert=subset(Expert,Expert$Resource_ID %in% q_id)\n",
    "expert1=Expert[,c('Resource_ID','Decision')]\n",
    "glimpse(expert1)\n",
    "\n",
    "moderations=subset(Total,Resource_ID %in% q_id)[,c('Resource_ID','User_ID','Decision')]\n",
    "glimpse(moderations)\n",
    "\n",
    "u_id=unique(moderations$User_ID)\n",
    "glimpse(u_id)"
   ]
  },
  {
   "cell_type": "code",
   "execution_count": 7,
   "metadata": {},
   "outputs": [],
   "source": [
    "################################################ Result evaluation function ################################################\n",
    "results <- function(Mean_expert,Bias_Users,w=3){\n",
    "# print('Cor')\n",
    "x1=round(cor(Mean_expert,Bias_Users,method = \"pearson\"),2);\n",
    "#     print(x1)\n",
    "\n",
    "# print('RMSE')\n",
    "x2=round(sqrt(mean((Mean_expert - Bias_Users)^2)),2);\n",
    "#     print(x2)\n",
    "Experts=ifelse(Mean_expert>=3,1,0)\n",
    "Users=ifelse(Bias_Users>=w,1,0)\n",
    "# print('AUC')\n",
    "x3=round(as.double(performance(prediction(Users,Experts), 'auc')@y.values),2);\n",
    "#     print(x3)\n",
    "t=table(Users,Experts)\n",
    "TN=t[1]\n",
    "FP=t[2]\n",
    "FN=t[3]\n",
    "TP=t[4]\n",
    "  \n",
    "ACC=  round((TP+TN)/(TP + TN + FP + FN),2)\n",
    "# print('sensitivity') ; \n",
    "    tpr=round(TP/(TP + FN),2);\n",
    "#     print(tpr)\n",
    "# print('specificity') ; \n",
    "    tnr=round(TN/(TN + FP),2);\n",
    "#     print(tnr)\n",
    "\n",
    "x=c(tpr,tnr,x3,ACC);\n",
    "#     print(x)\n",
    "write.table(t(c(x)), \"clipboard\", sep=\" & \", row.names=FALSE, col.names=FALSE)\n",
    "    return(c(x,x1,x2))\n",
    "    }\n",
    "################################################ reliability score function ################################################\n",
    "\n",
    "scoreG <- function(x,a){    # reliability score function\n",
    "     out <-  (2/(1+exp(-a*(x))))-1\n",
    "    return(out)\n",
    "    }\n",
    "################################################ reward score function################################################\n",
    "reward <- function(x,sigma,top){    # reward score function\n",
    "     mu=0\n",
    "    normal <- 1/(sqrt(2 * pi) * sigma) * exp(-((x - mu)^2/(2* sigma^2)))\n",
    "    normal0 <- 1/(sqrt(2 * pi) * sigma) * exp(-(( - mu)^2/(2* sigma^2)))\n",
    "    out <- top*(normal)\n",
    "    return(out)\n",
    "    }\n",
    "################################################ punish score function################################################\n",
    "punish <- function(x,sigma,top){    # punish score function\n",
    "     mu=0\n",
    "#     sigma= 0.5    #var(Total$Diff)/2=0.7502/2\n",
    "    normal <- 1/(sqrt(2 * pi) * sigma) * exp(-((x - mu)^2/(2* sigma^2)))\n",
    "    normal0 <- 1/(sqrt(2 * pi) * sigma) * exp(-(( - mu)^2/(2* sigma^2)))\n",
    "    out <- top*(-normal0+normal)\n",
    "    return(out)\n",
    "    }\n",
    "################################################ Resource Discrimination score function################################################\n",
    "rdis <- function(x,eps,sigma){    # Resource Discrimination\n",
    "     mu=0\n",
    "    normal <- 1/(sqrt(2 * pi) * sigma) * exp(-((x - 3 - mu)^2/(2* sigma^2)))\n",
    "    normal0 <- 1/(sqrt(2 * pi) * sigma) * exp(-(( - mu)^2/(2* sigma^2)))\n",
    "    out <- (normal0-normal+eps)\n",
    "    return(out)\n",
    "    }\n",
    "################################################ Trust score function ################################################\n",
    "\n",
    "pntrust <- function(x,a){    # aprroved/reject score function\n",
    "    out <-  (1/(.1+exp(-a*(x))))\n",
    "   \n",
    "    return(out)\n",
    "    }\n",
    "trust <- function(x,a){    # reliability score function\n",
    "    out <-  (2/(1+exp(-a*(x))))-1\n",
    "    return(out)\n",
    "    }"
   ]
  },
  {
   "cell_type": "code",
   "execution_count": 8,
   "metadata": {},
   "outputs": [
    {
     "name": "stderr",
     "output_type": "stream",
     "text": [
      "Parsed with column specification:\n",
      "cols(\n",
      "  Resource_ID = col_double(),\n",
      "  Expert = col_double(),\n",
      "  infer = col_double()\n",
      ")\n"
     ]
    },
    {
     "data": {
      "text/html": [
       "<ol class=list-inline>\n",
       "\t<li>0.55</li>\n",
       "\t<li>0.68</li>\n",
       "\t<li>0.62</li>\n",
       "\t<li>0.6</li>\n",
       "\t<li>0.34</li>\n",
       "\t<li>0.99</li>\n",
       "</ol>\n"
      ],
      "text/latex": [
       "\\begin{enumerate*}\n",
       "\\item 0.55\n",
       "\\item 0.68\n",
       "\\item 0.62\n",
       "\\item 0.6\n",
       "\\item 0.34\n",
       "\\item 0.99\n",
       "\\end{enumerate*}\n"
      ],
      "text/markdown": [
       "1. 0.55\n",
       "2. 0.68\n",
       "3. 0.62\n",
       "4. 0.6\n",
       "5. 0.34\n",
       "6. 0.99\n",
       "\n",
       "\n"
      ],
      "text/plain": [
       "[1] 0.55 0.68 0.62 0.60 0.34 0.99"
      ]
     },
     "metadata": {},
     "output_type": "display_data"
    }
   ],
   "source": [
    "library(readr)\n",
    "library(\"ROCR\")\n",
    "\n",
    "MF_out <- read_csv(\"MF_out.csv\")\n",
    "results(MF_out$Expert,MF_out$infer,3)"
   ]
  },
  {
   "cell_type": "code",
   "execution_count": 9,
   "metadata": {},
   "outputs": [
    {
     "name": "stdout",
     "output_type": "stream",
     "text": [
      " num [1:47] 42672 42928 42970 43053 43848 ...\n"
     ]
    }
   ],
   "source": [
    "inspected=vector()\n",
    "k=1\n",
    "for (i in Expert$Resource_ID)\n",
    "    {\n",
    "    if(Expert$Decision[Expert$Resource_ID==i]<3)\n",
    "        {\n",
    "        if (sum(Total$Decision [Total$Resource_ID==i]<3)==0)\n",
    "            {\n",
    "            inspected[k]=i\n",
    "            k=k+1\n",
    "        }\n",
    "    }\n",
    "}\n",
    "glimpse(inspected)"
   ]
  },
  {
   "cell_type": "code",
   "execution_count": 10,
   "metadata": {},
   "outputs": [
    {
     "name": "stdout",
     "output_type": "stream",
     "text": [
      "Rows: 303\n",
      "Columns: 15\n",
      "$ Resource_ID      <dbl> 42351, 42437, 42595, 42596, 42613, 42672, 42897, 4...\n",
      "$ User_ID          <dbl> 17213, 17213, 17213, 17213, 17213, 17213, 17213, 1...\n",
      "$ `User Course ID` <chr> \"uqrcunni\", \"uqrcunni\", \"uqrcunni\", \"uqrcunni\", \"u...\n",
      "$ `Data Consent`   <lgl> FALSE, FALSE, FALSE, FALSE, FALSE, FALSE, FALSE, F...\n",
      "$ Role             <chr> \"Moderator\", \"Moderator\", \"Moderator\", \"Moderator\"...\n",
      "$ `Created At`     <dttm> 2020-08-06 10:44:00, 2020-08-06 10:47:00, 2020-08...\n",
      "$ UsedInDecision   <lgl> TRUE, TRUE, TRUE, TRUE, TRUE, TRUE, TRUE, TRUE, TR...\n",
      "$ Outcome          <chr> \"Approved\", \"Approved\", \"Approved\", \"Approved\", \"A...\n",
      "$ Content          <dbl> 4, 4, 4, 5, 4, 5, 4, 4, 5, 4, 3, 3, 4, 4, 4, 4, 4,...\n",
      "$ Correctness      <dbl> 4, 4, 4, 4, 4, 2, 4, 2, 2, 2, 1, 2, 5, 2, 2, 2, 3,...\n",
      "$ Difficulty       <dbl> 4, 5, 3, 5, 3, 4, 3, 3, 5, 3, 2, 2, 4, 3, 4, 3, 3,...\n",
      "$ `C-Thinking`     <dbl> 3, 4, 3, 4, 2, 4, 3, 2, 4, 3, 2, 2, 4, 3, 4, 2, 3,...\n",
      "$ Decision         <dbl> 4, 4, 4, 4, 3, 2, 3, 2, 2, 2, 1, 2, 4, 2, 2, 2, 3,...\n",
      "$ Confidence       <dbl> 5, 5, 5, 5, 5, 5, 5, 5, 5, 5, 5, 5, 5, 5, 5, 5, 1,...\n",
      "$ Comment          <chr> NA, NA, NA, NA, NA, \"5% is an \\\"acceptable\\\" rate,...\n"
     ]
    }
   ],
   "source": [
    "Expert=subset(Expert, Resource_ID %in% Total$Resource_ID)\n",
    "glimpse(Expert)"
   ]
  },
  {
   "cell_type": "code",
   "execution_count": 11,
   "metadata": {},
   "outputs": [
    {
     "name": "stdout",
     "output_type": "stream",
     "text": [
      "Rows: 256\n",
      "Columns: 15\n",
      "$ Resource_ID      <dbl> 42351, 42437, 42595, 42596, 42613, 42897, 42900, 4...\n",
      "$ User_ID          <dbl> 17213, 17213, 17213, 17213, 17213, 17213, 17213, 1...\n",
      "$ `User Course ID` <chr> \"uqrcunni\", \"uqrcunni\", \"uqrcunni\", \"uqrcunni\", \"u...\n",
      "$ `Data Consent`   <lgl> FALSE, FALSE, FALSE, FALSE, FALSE, FALSE, FALSE, F...\n",
      "$ Role             <chr> \"Moderator\", \"Moderator\", \"Moderator\", \"Moderator\"...\n",
      "$ `Created At`     <dttm> 2020-08-06 10:44:00, 2020-08-06 10:47:00, 2020-08...\n",
      "$ UsedInDecision   <lgl> TRUE, TRUE, TRUE, TRUE, TRUE, TRUE, TRUE, TRUE, TR...\n",
      "$ Outcome          <chr> \"Approved\", \"Approved\", \"Approved\", \"Approved\", \"A...\n",
      "$ Content          <dbl> 4, 4, 4, 5, 4, 4, 4, 4, 4, 4, 4, 4, 4, 4, 4, 1, 4,...\n",
      "$ Correctness      <dbl> 4, 4, 4, 4, 4, 4, 2, 2, 5, 2, 2, 2, 3, 3, 2, 3, 2,...\n",
      "$ Difficulty       <dbl> 4, 5, 3, 5, 3, 3, 3, 3, 4, 3, 4, 3, 3, 3, 4, 2, 2,...\n",
      "$ `C-Thinking`     <dbl> 3, 4, 3, 4, 2, 3, 2, 3, 4, 3, 4, 2, 3, 3, 4, 2, 2,...\n",
      "$ Decision         <dbl> 4, 4, 4, 4, 3, 3, 2, 2, 4, 2, 2, 2, 3, 3, 2, 1, 2,...\n",
      "$ Confidence       <dbl> 5, 5, 5, 5, 5, 5, 5, 5, 5, 5, 5, 5, 1, 5, 5, 5, 5,...\n",
      "$ Comment          <chr> NA, NA, NA, NA, NA, \"This is a very basic recall q...\n"
     ]
    }
   ],
   "source": [
    "ExpertT=subset(Expert, Resource_ID %notin% inspected)\n",
    "glimpse(ExpertT)"
   ]
  },
  {
   "cell_type": "code",
   "execution_count": 12,
   "metadata": {},
   "outputs": [
    {
     "name": "stdout",
     "output_type": "stream",
     "text": [
      "Rows: 3,131\n",
      "Columns: 3\n",
      "$ Resource_ID <dbl> 42591, 42595, 42596, 46678, 46236, 48842, 51897, 42928,...\n",
      "$ User_ID     <dbl> 17356, 17356, 17356, 17356, 17358, 17358, 17358, 17372,...\n",
      "$ Decision    <dbl> 5, 4, 5, 4, 4, 4, 4, 4, 5, 3, 4, 4, 4, 4, 4, 3, 4, 3, 3...\n"
     ]
    }
   ],
   "source": [
    "Test=subset(moderations,Resource_ID %in% Expert$Resource_ID)\n",
    "glimpse(Test)\n",
    "\n",
    "write.csv(Expert,'Expert_NEUR2.csv', row.names=FALSE)\n",
    "write.csv(Test,'Test_NEUR2.csv', row.names=FALSE)"
   ]
  },
  {
   "cell_type": "code",
   "execution_count": 10,
   "metadata": {},
   "outputs": [],
   "source": [
    "write.table(t(c(\n",
    "length(unique(Total$Resource_ID)),\n",
    "length(unique(Total$User_ID)),\n",
    "dim(Total)[1]\n",
    ")), \"clipboard\", sep=\"\\t\", row.names=FALSE, col.names=FALSE)"
   ]
  },
  {
   "cell_type": "code",
   "execution_count": 10,
   "metadata": {},
   "outputs": [],
   "source": [
    "write.table(t(c(\n",
    "length(unique(Expert$Resource_ID)),\n",
    "length(unique(Total$User_ID[Total$Resource_ID %in% Expert$Resource_ID])),\n",
    "length((Total$User_ID[Total$Resource_ID %in% Expert$Resource_ID]))\n",
    ")), \"clipboard\", sep=\"\\t\", row.names=FALSE, col.names=FALSE)"
   ]
  },
  {
   "cell_type": "code",
   "execution_count": 11,
   "metadata": {},
   "outputs": [],
   "source": [
    "write.table(t(c(\n",
    "length(unique(ExpertT$Resource_ID)),\n",
    "length(unique(Total$User_ID[Total$Resource_ID %in% ExpertT$Resource_ID])),\n",
    "length((Total$User_ID[Total$Resource_ID %in% ExpertT$Resource_ID]))\n",
    ")), \"clipboard\", sep=\"\\t\", row.names=FALSE, col.names=FALSE)"
   ]
  },
  {
   "cell_type": "markdown",
   "metadata": {},
   "source": [
    "# Baselines"
   ]
  },
  {
   "cell_type": "markdown",
   "metadata": {},
   "source": [
    "## Majority Voting"
   ]
  },
  {
   "cell_type": "code",
   "execution_count": 12,
   "metadata": {},
   "outputs": [
    {
     "name": "stderr",
     "output_type": "stream",
     "text": [
      "Warning message:\n",
      "\"package 'mclust' was built under R version 3.6.3\"Package 'mclust' version 5.4.6\n",
      "Type 'citation(\"mclust\")' for citing this R package in publications.\n"
     ]
    },
    {
     "data": {
      "text/html": [
       "<ol class=list-inline>\n",
       "\t<li>0.99</li>\n",
       "\t<li>0.02</li>\n",
       "\t<li>0.51</li>\n",
       "\t<li>0.62</li>\n",
       "\t<li>0.38</li>\n",
       "\t<li>1.38</li>\n",
       "</ol>\n"
      ],
      "text/latex": [
       "\\begin{enumerate*}\n",
       "\\item 0.99\n",
       "\\item 0.02\n",
       "\\item 0.51\n",
       "\\item 0.62\n",
       "\\item 0.38\n",
       "\\item 1.38\n",
       "\\end{enumerate*}\n"
      ],
      "text/markdown": [
       "1. 0.99\n",
       "2. 0.02\n",
       "3. 0.51\n",
       "4. 0.62\n",
       "5. 0.38\n",
       "6. 1.38\n",
       "\n",
       "\n"
      ],
      "text/plain": [
       "[1] 0.99 0.02 0.51 0.62 0.38 1.38"
      ]
     },
     "metadata": {},
     "output_type": "display_data"
    }
   ],
   "source": [
    "library('mclust')\n",
    "MV_User=vector()\n",
    "k=1\n",
    "for (i in Expert$Resource_ID)\n",
    "    {\n",
    "    MV_User[k]=as.numeric(majorityVote(Total$Decision[Total$Resource_ID==i])$majority)\n",
    "    k=k+1\n",
    "}\n",
    "results(Expert$Decision,MV_User,3)\n"
   ]
  },
  {
   "cell_type": "code",
   "execution_count": 13,
   "metadata": {},
   "outputs": [
    {
     "name": "stderr",
     "output_type": "stream",
     "text": [
      "Warning message:\n",
      "\"package 'ggplot2' was built under R version 3.6.3\""
     ]
    },
    {
     "data": {
      "image/png": "[encoded data removed]",
      "text/plain": [
       "plot without title"
      ]
     },
     "metadata": {},
     "output_type": "display_data"
    }
   ],
   "source": [
    "Decision=MV_User\n",
    "expert=Expert$Decision\n",
    "Test=data.frame(Decision,expert)\n",
    "Test$Colour=\"darkgreen\"\n",
    "Test$Colour[Test$Decision<3]=\"blue\"\n",
    "\n",
    "Test$shape=3\n",
    "Test$shape[Test$Decision<3]=4\n",
    "Test$shape[Test$Decision<3 & Test$expert>=3]=6\n",
    "Test$shape[Test$Decision>=3 & Test$expert<3]=2\n",
    "Test$class=\"tp\"\n",
    "Test$class[Test$expert<3 & Test$Decision<3]=\"tn\"\n",
    "\n",
    "Test$Colour[Test$expert>=3 & Test$Decision<3]=\"darkviolet\"\n",
    "Test$class[Test$expert>=3 & Test$Decision<3]=\"fn\"\n",
    "\n",
    "\n",
    "Test$Colour[Test$expert<3 & Test$Decision>=3]=\"red\"\n",
    "Test$class[Test$expert<3 & Test$Decision>=3]=\"fp\"\n",
    "\n",
    "y_p=5.5\n",
    "library(ggplot2)\n",
    "box_plot2 <- ggplot(Test, aes(x=as.factor(expert), y = Decision))\n",
    "bx1=box_plot2 +\n",
    "    geom_boxplot(outlier.colour = \"white\") +\n",
    "    ylim(.5,y_p)+ ylab('Students\\' Ratings')+ xlab('Instructors\\' Ratings')+ ggtitle('(a) Majority Vote')+\n",
    "    geom_jitter(shape = Test$shape,\n",
    "        color = Test$Colour,\n",
    "        position = position_jitter(width = 0.31)) +\n",
    "    theme_classic() \n",
    "\n",
    "\n",
    "bx1"
   ]
  },
  {
   "cell_type": "code",
   "execution_count": 14,
   "metadata": {},
   "outputs": [
    {
     "data": {
      "text/html": [
       "<ol class=list-inline>\n",
       "\t<li>1</li>\n",
       "\t<li>0.01</li>\n",
       "\t<li>0.51</li>\n",
       "\t<li>0.74</li>\n",
       "\t<li>0.4</li>\n",
       "\t<li>1.24</li>\n",
       "</ol>\n"
      ],
      "text/latex": [
       "\\begin{enumerate*}\n",
       "\\item 1\n",
       "\\item 0.01\n",
       "\\item 0.51\n",
       "\\item 0.74\n",
       "\\item 0.4\n",
       "\\item 1.24\n",
       "\\end{enumerate*}\n"
      ],
      "text/markdown": [
       "1. 1\n",
       "2. 0.01\n",
       "3. 0.51\n",
       "4. 0.74\n",
       "5. 0.4\n",
       "6. 1.24\n",
       "\n",
       "\n"
      ],
      "text/plain": [
       "[1] 1.00 0.01 0.51 0.74 0.40 1.24"
      ]
     },
     "metadata": {},
     "output_type": "display_data"
    }
   ],
   "source": [
    "library('mclust')\n",
    "MV_User=vector()\n",
    "k=1\n",
    "for (i in ExpertT$Resource_ID)\n",
    "    {\n",
    "    MV_User[k]=as.numeric(majorityVote(Total$Decision[Total$Resource_ID==i])$majority)\n",
    "    k=k+1\n",
    "}\n",
    "results(ExpertT$Decision,MV_User,3)\n"
   ]
  },
  {
   "cell_type": "markdown",
   "metadata": {},
   "source": [
    "## Mean"
   ]
  },
  {
   "cell_type": "code",
   "execution_count": 17,
   "metadata": {},
   "outputs": [
    {
     "data": {
      "text/html": [
       "<ol class=list-inline>\n",
       "\t<li>1</li>\n",
       "\t<li>0.03</li>\n",
       "\t<li>0.52</li>\n",
       "\t<li>0.63</li>\n",
       "\t<li>0.55</li>\n",
       "\t<li>1.29</li>\n",
       "</ol>\n"
      ],
      "text/latex": [
       "\\begin{enumerate*}\n",
       "\\item 1\n",
       "\\item 0.03\n",
       "\\item 0.52\n",
       "\\item 0.63\n",
       "\\item 0.55\n",
       "\\item 1.29\n",
       "\\end{enumerate*}\n"
      ],
      "text/markdown": [
       "1. 1\n",
       "2. 0.03\n",
       "3. 0.52\n",
       "4. 0.63\n",
       "5. 0.55\n",
       "6. 1.29\n",
       "\n",
       "\n"
      ],
      "text/plain": [
       "[1] 1.00 0.03 0.52 0.63 0.55 1.29"
      ]
     },
     "metadata": {},
     "output_type": "display_data"
    }
   ],
   "source": [
    "Mean_Users=vector()\n",
    "k=1\n",
    "for (i in Expert$Resource_ID)\n",
    "    {\n",
    "    Mean_Users[k]=mean(Total$Decision[Total$Resource_ID==i])\n",
    "    k=k+1\n",
    "    }\n",
    "results(Expert$Decision,Mean_Users,3)"
   ]
  },
  {
   "cell_type": "code",
   "execution_count": 18,
   "metadata": {},
   "outputs": [],
   "source": [
    "mean=Mean_Users\n",
    "expert=Expert$Decision\n",
    "NEUR2=data.frame(expert,mean)\n",
    "\n"
   ]
  },
  {
   "cell_type": "code",
   "execution_count": 95,
   "metadata": {},
   "outputs": [
    {
     "data": {
      "text/html": [
       "<ol class=list-inline>\n",
       "\t<li>0.97</li>\n",
       "\t<li>0.24</li>\n",
       "\t<li>0.61</li>\n",
       "\t<li>0.75</li>\n",
       "\t<li>0.68</li>\n",
       "\t<li>1.14</li>\n",
       "</ol>\n"
      ],
      "text/latex": [
       "\\begin{enumerate*}\n",
       "\\item 0.97\n",
       "\\item 0.24\n",
       "\\item 0.61\n",
       "\\item 0.75\n",
       "\\item 0.68\n",
       "\\item 1.14\n",
       "\\end{enumerate*}\n"
      ],
      "text/markdown": [
       "1. 0.97\n",
       "2. 0.24\n",
       "3. 0.61\n",
       "4. 0.75\n",
       "5. 0.68\n",
       "6. 1.14\n",
       "\n",
       "\n"
      ],
      "text/plain": [
       "[1] 0.97 0.24 0.61 0.75 0.68 1.14"
      ]
     },
     "metadata": {},
     "output_type": "display_data"
    }
   ],
   "source": [
    "Mean_Users=vector()\n",
    "k=1\n",
    "for (i in ExpertT$Resource_ID)\n",
    "    {\n",
    "    Mean_Users[k]=mean(Total$Decision[Total$Resource_ID==i])\n",
    "    k=k+1\n",
    "    }\n",
    "results(ExpertT$Decision,Mean_Users,3)"
   ]
  },
  {
   "cell_type": "markdown",
   "metadata": {},
   "source": [
    "## Median"
   ]
  },
  {
   "cell_type": "code",
   "execution_count": 17,
   "metadata": {},
   "outputs": [
    {
     "data": {
      "text/html": [
       "<ol class=list-inline>\n",
       "\t<li>&lt;NA&gt;</li>\n",
       "\t<li>0.38</li>\n",
       "\t<li>0.5</li>\n",
       "\t<li>&lt;NA&gt;</li>\n",
       "\t<li>0.4</li>\n",
       "\t<li>1.36</li>\n",
       "</ol>\n"
      ],
      "text/latex": [
       "\\begin{enumerate*}\n",
       "\\item <NA>\n",
       "\\item 0.38\n",
       "\\item 0.5\n",
       "\\item <NA>\n",
       "\\item 0.4\n",
       "\\item 1.36\n",
       "\\end{enumerate*}\n"
      ],
      "text/markdown": [
       "1. &lt;NA&gt;\n",
       "2. 0.38\n",
       "3. 0.5\n",
       "4. &lt;NA&gt;\n",
       "5. 0.4\n",
       "6. 1.36\n",
       "\n",
       "\n"
      ],
      "text/plain": [
       "[1]   NA 0.38 0.50   NA 0.40 1.36"
      ]
     },
     "metadata": {},
     "output_type": "display_data"
    },
    {
     "name": "stdout",
     "output_type": "stream",
     "text": [
      "[1] \"AUC\"\n",
      "[1] 0.5\n"
     ]
    },
    {
     "data": {
      "text/plain": [
       "     Experts\n",
       "Users   0   1\n",
       "    1 115 188"
      ]
     },
     "metadata": {},
     "output_type": "display_data"
    },
    {
     "name": "stdout",
     "output_type": "stream",
     "text": [
      "[1] \"sensitivity\"\n",
      "[1] 1\n",
      "[1] \"specificity\"\n",
      "[1] 0\n"
     ]
    }
   ],
   "source": [
    "Mean_Users=vector()\n",
    "k=1\n",
    "for (i in Expert$Resource_ID)\n",
    "    {\n",
    "    Mean_Users[k]=median(Total$Decision[Total$Resource_ID==i])\n",
    "    k=k+1\n",
    "    }\n",
    "results(Expert$Decision,Mean_Users,3)\n",
    "Experts=ifelse(Expert$Decision>=3,1,0)\n",
    "Users=ifelse(Mean_Users>=3,1,0)\n",
    "print('AUC')\n",
    "x3=round(as.double(performance(prediction(Users,Experts),'auc' )@y.values),2);\n",
    "    print(x3)\n",
    "t=table(Users,Experts);t\n",
    "TN=0#t[1]\n",
    "FP=t[1]\n",
    "FN=0#t[3]\n",
    "TP=t[2]\n",
    "print('sensitivity') ; \n",
    "    tpr=round(TP/(TP + FN),2)\n",
    "    print(tpr)\n",
    "print('specificity') ; \n",
    "    tnr=round(TN/(TN + FP),2);\n",
    "    print(tnr)"
   ]
  },
  {
   "cell_type": "code",
   "execution_count": 97,
   "metadata": {},
   "outputs": [
    {
     "data": {
      "text/html": [
       "<ol class=list-inline>\n",
       "\t<li>0.99</li>\n",
       "\t<li>0.18</li>\n",
       "\t<li>0.58</li>\n",
       "\t<li>0.74</li>\n",
       "\t<li>0.64</li>\n",
       "\t<li>1.19</li>\n",
       "</ol>\n"
      ],
      "text/latex": [
       "\\begin{enumerate*}\n",
       "\\item 0.99\n",
       "\\item 0.18\n",
       "\\item 0.58\n",
       "\\item 0.74\n",
       "\\item 0.64\n",
       "\\item 1.19\n",
       "\\end{enumerate*}\n"
      ],
      "text/markdown": [
       "1. 0.99\n",
       "2. 0.18\n",
       "3. 0.58\n",
       "4. 0.74\n",
       "5. 0.64\n",
       "6. 1.19\n",
       "\n",
       "\n"
      ],
      "text/plain": [
       "[1] 0.99 0.18 0.58 0.74 0.64 1.19"
      ]
     },
     "metadata": {},
     "output_type": "display_data"
    },
    {
     "name": "stdout",
     "output_type": "stream",
     "text": [
      "[1] \"AUC\"\n",
      "[1] 0.58\n"
     ]
    },
    {
     "data": {
      "text/plain": [
       "     Experts\n",
       "Users  0  1\n",
       "    0  6  1\n",
       "    1 27 72"
      ]
     },
     "metadata": {},
     "output_type": "display_data"
    },
    {
     "name": "stdout",
     "output_type": "stream",
     "text": [
      "[1] \"sensitivity\"\n",
      "[1] 1\n",
      "[1] \"specificity\"\n",
      "[1] 0\n"
     ]
    }
   ],
   "source": [
    "Mean_Users=vector()\n",
    "k=1\n",
    "for (i in ExpertT$Resource_ID)\n",
    "    {\n",
    "    Mean_Users[k]=median(Total$Decision[Total$Resource_ID==i])\n",
    "    k=k+1\n",
    "    }\n",
    "results(ExpertT$Decision,Mean_Users,3)\n",
    "Experts=ifelse(ExpertT$Decision>=3,1,0)\n",
    "Users=ifelse(Mean_Users>=3,1,0)\n",
    "print('AUC')\n",
    "x3=round(as.double(performance(prediction(Users,Experts),'auc' )@y.values),2);\n",
    "    print(x3)\n",
    "t=table(Users,Experts);t\n",
    "TN=0#t[1]\n",
    "FP=t[1]\n",
    "FN=0#t[3]\n",
    "TP=t[2]\n",
    "print('sensitivity') ; \n",
    "    tpr=round(TP/(TP + FN),2)\n",
    "    print(tpr)\n",
    "print('specificity') ; \n",
    "    tnr=round(TN/(TN + FP),2);\n",
    "    print(tnr)"
   ]
  },
  {
   "cell_type": "markdown",
   "metadata": {},
   "source": [
    "## Debiased Mean"
   ]
  },
  {
   "cell_type": "code",
   "execution_count": 19,
   "metadata": {},
   "outputs": [
    {
     "data": {
      "text/html": [
       "<ol class=list-inline>\n",
       "\t<li>1</li>\n",
       "\t<li>0.03</li>\n",
       "\t<li>0.51</li>\n",
       "\t<li>0.63</li>\n",
       "\t<li>0.53</li>\n",
       "\t<li>1.3</li>\n",
       "</ol>\n"
      ],
      "text/latex": [
       "\\begin{enumerate*}\n",
       "\\item 1\n",
       "\\item 0.03\n",
       "\\item 0.51\n",
       "\\item 0.63\n",
       "\\item 0.53\n",
       "\\item 1.3\n",
       "\\end{enumerate*}\n"
      ],
      "text/markdown": [
       "1. 1\n",
       "2. 0.03\n",
       "3. 0.51\n",
       "4. 0.63\n",
       "5. 0.53\n",
       "6. 1.3\n",
       "\n",
       "\n"
      ],
      "text/plain": [
       "[1] 1.00 0.03 0.51 0.63 0.53 1.30"
      ]
     },
     "metadata": {},
     "output_type": "display_data"
    }
   ],
   "source": [
    "Bias_Users <- vector()\n",
    "D=mean(Total$Decision)\n",
    "k=1\n",
    "for (i in Expert$Resource_ID)\n",
    "    {\n",
    "    b=0\n",
    "        s=0\n",
    "        kk=0\n",
    "    for (j in Total$User_ID[Total$Resource_ID==i])\n",
    "           {\n",
    "          \n",
    "           b= mean(Total$Decision[Total$User_ID==j])-D # Train, Total, Test\n",
    "           s=s+ Total$Decision[Total$Resource_ID==i & Total$User_ID==j]-b\n",
    "           kk=kk+1\n",
    "               \n",
    "       }\n",
    "     Bias_Users[k] <- s / kk\n",
    "    k= k+1\n",
    "}\n",
    "results(Expert$Decision,Bias_Users,3)\n"
   ]
  },
  {
   "cell_type": "code",
   "execution_count": 99,
   "metadata": {},
   "outputs": [
    {
     "data": {
      "text/html": [
       "<ol class=list-inline>\n",
       "\t<li>0.95</li>\n",
       "\t<li>0.18</li>\n",
       "\t<li>0.56</li>\n",
       "\t<li>0.71</li>\n",
       "\t<li>0.63</li>\n",
       "\t<li>1.22</li>\n",
       "</ol>\n"
      ],
      "text/latex": [
       "\\begin{enumerate*}\n",
       "\\item 0.95\n",
       "\\item 0.18\n",
       "\\item 0.56\n",
       "\\item 0.71\n",
       "\\item 0.63\n",
       "\\item 1.22\n",
       "\\end{enumerate*}\n"
      ],
      "text/markdown": [
       "1. 0.95\n",
       "2. 0.18\n",
       "3. 0.56\n",
       "4. 0.71\n",
       "5. 0.63\n",
       "6. 1.22\n",
       "\n",
       "\n"
      ],
      "text/plain": [
       "[1] 0.95 0.18 0.56 0.71 0.63 1.22"
      ]
     },
     "metadata": {},
     "output_type": "display_data"
    }
   ],
   "source": [
    "Bias_Users <- vector()\n",
    "D=mean(Total$Decision)\n",
    "k=1\n",
    "for (i in ExpertT$Resource_ID)\n",
    "    {\n",
    "    b=0\n",
    "        s=0\n",
    "        kk=0\n",
    "    for (j in Total$User_ID[Total$Resource_ID==i])\n",
    "           {\n",
    "          \n",
    "           b= mean(Total$Decision[Total$User_ID==j])-D # Train, Total, Test\n",
    "           s=s+ Total$Decision[Total$Resource_ID==i & Total$User_ID==j]-b\n",
    "           kk=kk+1\n",
    "               \n",
    "       }\n",
    "     Bias_Users[k] <- s / kk\n",
    "    k= k+1\n",
    "}\n",
    "results(ExpertT$Decision,Bias_Users,3)\n"
   ]
  },
  {
   "cell_type": "markdown",
   "metadata": {},
   "source": [
    "## Current Model"
   ]
  },
  {
   "cell_type": "code",
   "execution_count": 21,
   "metadata": {},
   "outputs": [
    {
     "data": {
      "text/html": [
       "<ol class=list-inline>\n",
       "\t<li>0.99</li>\n",
       "\t<li>0.03</li>\n",
       "\t<li>0.51</li>\n",
       "\t<li>0.63</li>\n",
       "\t<li>0.49</li>\n",
       "\t<li>1.32</li>\n",
       "</ol>\n"
      ],
      "text/latex": [
       "\\begin{enumerate*}\n",
       "\\item 0.99\n",
       "\\item 0.03\n",
       "\\item 0.51\n",
       "\\item 0.63\n",
       "\\item 0.49\n",
       "\\item 1.32\n",
       "\\end{enumerate*}\n"
      ],
      "text/markdown": [
       "1. 0.99\n",
       "2. 0.03\n",
       "3. 0.51\n",
       "4. 0.63\n",
       "5. 0.49\n",
       "6. 1.32\n",
       "\n",
       "\n"
      ],
      "text/plain": [
       "[1] 0.99 0.03 0.51 0.63 0.49 1.32"
      ]
     },
     "metadata": {},
     "output_type": "display_data"
    }
   ],
   "source": [
    "initial=1000\n",
    "score <- function(x){    # reliability score function\n",
    "     mu=0\n",
    "    sigma= .75     #var(Total$Diff)/2=0.7502/2\n",
    "    normal <- 1/(sqrt(2 * pi) * sigma) * exp(-((x - mu)^2/(2* sigma^2)))\n",
    "    normal0 <- 1/(sqrt(2 * pi) * sigma) * exp(-(( - mu)^2/(2* sigma^2)))\n",
    "    out <- 100*(normal-normal0/2) # \n",
    "    return(out)\n",
    "    }\n",
    "Total_User_ID=unique(Total$User_ID)\n",
    "Total_Resource_ID=unique(Total$Resource_ID)\n",
    "############## Reliabity calculation\n",
    "Moderating_Score=matrix(initial, nrow = length(Total_User_ID), ncol = 1)#initial\n",
    "Resource_Quality=matrix(nrow = length(Total_Resource_ID), ncol = 1)\n",
    "kr=1\n",
    "moderation_NEUR_current=matrix(nrow = dim(Total)[1], ncol = 3)\n",
    "for(i in Total_Resource_ID)\n",
    "    {\n",
    "\n",
    "        wsum=0;\n",
    "        rsum=0\n",
    "\n",
    "            for (j in Total$User_ID[Total$Resource_ID==i] )\n",
    "            {\n",
    "                kk=match(j,Total_User_ID)\n",
    "                if(Moderating_Score[kk]>0)\n",
    "                    {\n",
    "                    rsum= rsum+ (Total$Decision[Total$User_ID==j & \n",
    "                                         Total$Resource_ID==i])*\n",
    "                                            Moderating_Score[kk]\n",
    "                    wsum=wsum+Moderating_Score[kk]\n",
    "                    }\n",
    "            }\n",
    "        rhat= rsum/wsum\n",
    "        for (j in Total$User_ID[Total$Resource_ID==i] )\n",
    "            {\n",
    "                kk=match(j,Total_User_ID)\n",
    "                Dr= rhat\n",
    "                        ################ expert\n",
    "                if(i %in% Expert$Resource_ID) {Dr=Expert$Decision[Expert$Resource_ID==i]}\n",
    "                        ########################\n",
    "\n",
    "                Moderating_Score[kk]=Moderating_Score[kk]+\n",
    "                    score((Total$Decision[Total$User_ID==j & \n",
    "                                     Total$Resource_ID==i]-Dr))\n",
    "             if(Moderating_Score[kk]<=0) Moderating_Score[kk]=1\n",
    "      \n",
    "        }\n",
    "        Resource_Quality[kr]=rhat\n",
    "kr=kr+1\n",
    "    }\n",
    "####################################\n",
    "RQ=data.frame(Resource_Quality)\n",
    "RQ$Resource_ID =Total_Resource_ID\n",
    "\n",
    "############################################ Evaluation\n",
    "\n",
    "Test_Data_Resource_ID=unique(Expert$Resource_ID)\n",
    "Test_Data_Users_Decision=matrix(0, nrow = length(Test_Data_Resource_ID), ncol = 3)\n",
    "k=1\n",
    "for (i in Test_Data_Resource_ID)\n",
    "    {\n",
    "    Test_Data_Users_Decision[k,1]=i\n",
    "    Test_Data_Users_Decision[k,2]=Expert$Decision[Expert$Resource_ID==i]\n",
    "    Test_Data_Users_Decision[k,3]=RQ$Resource_Quality[RQ$Resource_ID==i]\n",
    "   k=k+1\n",
    "    }\n",
    "########################################################################\n",
    "Expert_Decision=Test_Data_Users_Decision[,2]\n",
    "Users_Decision=Test_Data_Users_Decision[,3]\n",
    "results(Expert_Decision,Users_Decision)"
   ]
  },
  {
   "cell_type": "code",
   "execution_count": 228,
   "metadata": {},
   "outputs": [
    {
     "data": {
      "image/png": "[encoded data removed]",
      "text/plain": [
       "plot without title"
      ]
     },
     "metadata": {},
     "output_type": "display_data"
    }
   ],
   "source": [
    "Decision=Users_Decision\n",
    "expert=Expert_Decision\n",
    "Test=data.frame(Decision,expert)\n",
    "Test$Colour=\"darkgreen\"\n",
    "Test$Colour[Test$Decision<3]=\"blue\"\n",
    "\n",
    "Test$shape=3\n",
    "Test$shape[Test$Decision<3]=4\n",
    "Test$shape[Test$Decision<3 & Test$expert>=3]=6\n",
    "Test$shape[Test$Decision>=3 & Test$expert<3]=2\n",
    "Test$class=\"tp\"\n",
    "Test$class[Test$expert<3 & Test$Decision<3]=\"tn\"\n",
    "\n",
    "Test$Colour[Test$expert>=3 & Test$Decision<3]=\"darkviolet\"\n",
    "Test$class[Test$expert>=3 & Test$Decision<3]=\"fn\"\n",
    "\n",
    "\n",
    "Test$Colour[Test$expert<3 & Test$Decision>=3]=\"red\"\n",
    "Test$class[Test$expert<3 & Test$Decision>=3]=\"fp\"\n",
    "\n",
    "y_p=5.5\n",
    "library(ggplot2)\n",
    "box_plot2 <- ggplot(Test, aes(x=as.factor(expert), y = Decision))\n",
    "bx2=box_plot2 +\n",
    "    geom_boxplot(outlier.colour = \"white\") +\n",
    "    ylim(.5,y_p)+ ylab('Students\\' Ratings')+ xlab('Instructors\\' Ratings')+ ggtitle('(b) Current Model ')+\n",
    "    geom_jitter(shape = Test$shape,\n",
    "        color = Test$Colour,\n",
    "        position = position_jitter(width = 0.31)) +\n",
    "    theme_classic() \n",
    "\n",
    "\n",
    "bx2"
   ]
  },
  {
   "cell_type": "code",
   "execution_count": 123,
   "metadata": {},
   "outputs": [
    {
     "data": {
      "text/html": [
       "<ol class=list-inline>\n",
       "\t<li>0.95</li>\n",
       "\t<li>0.39</li>\n",
       "\t<li>0.67</li>\n",
       "\t<li>0.77</li>\n",
       "\t<li>0.68</li>\n",
       "\t<li>1.15</li>\n",
       "</ol>\n"
      ],
      "text/latex": [
       "\\begin{enumerate*}\n",
       "\\item 0.95\n",
       "\\item 0.39\n",
       "\\item 0.67\n",
       "\\item 0.77\n",
       "\\item 0.68\n",
       "\\item 1.15\n",
       "\\end{enumerate*}\n"
      ],
      "text/markdown": [
       "1. 0.95\n",
       "2. 0.39\n",
       "3. 0.67\n",
       "4. 0.77\n",
       "5. 0.68\n",
       "6. 1.15\n",
       "\n",
       "\n"
      ],
      "text/plain": [
       "[1] 0.95 0.39 0.67 0.77 0.68 1.15"
      ]
     },
     "metadata": {},
     "output_type": "display_data"
    }
   ],
   "source": [
    "############################################ Evaluation\n",
    "\n",
    "Test_Data_Resource_ID=unique(ExpertT$Resource_ID)\n",
    "Test_Data_Users_Decision=matrix(0, nrow = length(Test_Data_Resource_ID), ncol = 3)\n",
    "k=1\n",
    "for (i in Test_Data_Resource_ID)\n",
    "    {\n",
    "    Test_Data_Users_Decision[k,1]=i\n",
    "    Test_Data_Users_Decision[k,2]=ExpertT$Decision[ExpertT$Resource_ID==i]\n",
    "    Test_Data_Users_Decision[k,3]=RQ$Resource_Quality[RQ$Resource_ID==i]\n",
    "   k=k+1\n",
    "    }\n",
    "########################################################################\n",
    "Expert_Decision=Test_Data_Users_Decision[,2]\n",
    "Users_Decision=Test_Data_Users_Decision[,3]\n",
    "results(Expert_Decision,Users_Decision)"
   ]
  },
  {
   "cell_type": "markdown",
   "metadata": {},
   "source": [
    "# Graph model"
   ]
  },
  {
   "cell_type": "code",
   "execution_count": 19,
   "metadata": {},
   "outputs": [
    {
     "data": {
      "text/html": [
       "<ol class=list-inline>\n",
       "\t<li>0.94</li>\n",
       "\t<li>0.43</li>\n",
       "\t<li>0.68</li>\n",
       "\t<li>0.75</li>\n",
       "\t<li>0.56</li>\n",
       "\t<li>1.13</li>\n",
       "</ol>\n"
      ],
      "text/latex": [
       "\\begin{enumerate*}\n",
       "\\item 0.94\n",
       "\\item 0.43\n",
       "\\item 0.68\n",
       "\\item 0.75\n",
       "\\item 0.56\n",
       "\\item 1.13\n",
       "\\end{enumerate*}\n"
      ],
      "text/markdown": [
       "1. 0.94\n",
       "2. 0.43\n",
       "3. 0.68\n",
       "4. 0.75\n",
       "5. 0.56\n",
       "6. 1.13\n",
       "\n",
       "\n"
      ],
      "text/plain": [
       "[1] 0.94 0.43 0.68 0.75 0.56 1.13"
      ]
     },
     "metadata": {},
     "output_type": "display_data"
    }
   ],
   "source": [
    "##################################### Initializing #####################################\n",
    "reward0=500 # Initial reward point\n",
    "rel_teta=.001 # Relibility function coef\n",
    "maxrew=100\n",
    "tp=vector()\n",
    "tn=vector()\n",
    "auc=vector()\n",
    "cor=vector()\n",
    "rmse=vector()\n",
    "\n",
    "    N=length(u_id)+1\n",
    "    ##################################### Variables #####################################\n",
    "    Pos=matrix(0,nrow=N ,ncol= 1 ) # Users' Positive Ratings\n",
    "    Neg=matrix(0,nrow=N ,ncol= 1 ) # Users' Negative Ratings\n",
    "    Rew=matrix(reward0,nrow=N ,ncol= 1 ) # Users' Rewards\n",
    "    W=matrix(scoreG(reward0,rel_teta),nrow=N ,ncol= 1 ) # Users' Reliability\n",
    "    W[N]=1\n",
    "    Trust= diag(N) #matrix(0,nrow=N ,ncol= N ) \n",
    "    A=matrix(0,nrow=N ,ncol= N ) # agreements btw users\n",
    "    D=matrix(0,nrow=N ,ncol= N ) # disagreements btw users\n",
    "    WT = (Trust %*% W) # Weight based on reliability and others Trust\n",
    "    RA=matrix(0,nrow=length(q_id) ,ncol= 1 ) # number of agreements on Rj\n",
    "    RD=matrix(0,nrow=length(q_id) ,ncol= 1 ) # number of disagreements on Rj\n",
    "    Rhat=matrix(0,nrow=length(q_id) ,ncol= 1 ) # Inferred Decision on Rj\n",
    "    RhatT=matrix(0,nrow=length(q_id) ,ncol= 1 ) # Inferred Decision on Rj\n",
    "    RhatN=matrix(0,nrow=length(q_id) ,ncol= 1 ) # Number of Decision on Rj\n",
    "    RhatW=matrix(0,nrow=length(q_id) ,ncol= 1 ) # Number of Decision on Rj\n",
    "    \n",
    "    \n",
    "    kq=1\n",
    "    for(i in q_id)\n",
    "        {\n",
    "        B= Trust %*% Trust\n",
    "        tau=quantile(B[1:N-1,N],names = FALSE)[1]\n",
    "        tauWT=quantile(WT,names = FALSE)[1]\n",
    "        tauW=quantile(W,names = FALSE)[1]\n",
    "        users=moderations$User_ID[moderations$Resource_ID==i]\n",
    "        n=length(users)\n",
    "        si=0\n",
    "        wi=0\n",
    "        Win= matrix(1,nrow= n,ncol=1) # collecting user reliability\n",
    "        exclude= matrix(1,nrow= N,ncol=1) # removing those moderated this resource for trust propagation and keeping others\n",
    "        exclude[N]=0\n",
    "        for(j in 1:(n-1))\n",
    "            {\n",
    "            kj=match(users[j],u_id)\n",
    "            exclude[kj]=0\n",
    "            Win[j]=W[kj]\n",
    "            Dj=moderations$Decision[moderations$User_ID==users[j] & moderations$Resource_ID==i]\n",
    "            if (W[kj]>tauW & WT[kj]>tauWT &  B[kj,N]>=tau) \n",
    "            {\n",
    "#                 neg=sum(moderations$Decision[moderations$User_ID==users[j] & moderations$Resource_ID %in% q_id [1:kq]]<3)\n",
    "#                 pos=sum(moderations$Decision[moderations$User_ID==users[j] & moderations$Resource_ID %in% q_id [1:kq]]>=3)\n",
    "                if (Dj<3) {Neg[kj]= Neg[kj]+1; PN=(Pos[kj]+Neg[kj])/Neg[kj]}\n",
    "                if (Dj>=3) {Pos[kj]= Pos[kj]+1;PN=(Pos[kj]+Neg[kj])/Pos[kj]}\n",
    "                \n",
    "                PNj=pntrust(PN,.5) \n",
    "                si=si+Dj*(PNj*W[kj]); wi=wi+(PNj*W[kj])\n",
    "                                RhatN[kq]= RhatN[kq]+1 # number of decisions\n",
    "                                RhatW[kq]= wi # number of decisions\n",
    "\n",
    "            }                                                                               ########################## DECISION\n",
    "            for(l in users[(j+1):n])\n",
    "                {\n",
    "                kl=match(l,u_id)\n",
    "                Dl=moderations$Decision[moderations$User_ID==l & moderations$Resource_ID==i]\n",
    "                if ((Dl>= 3 &  Dj>=3) | (Dl< 3 &  Dj<3)) \n",
    "                {\n",
    "                    A[kj,kl]= A[kj,kl]+1;A[kl,kj]= A[kl,kj]+1;\n",
    "                    RA[kq]=RA[kq]+1\n",
    "                } \n",
    "                else \n",
    "                {\n",
    "                    D[kj,kl]= D[kj,kl]+1;D[kl,kj]= D[kl,kj]+1;\n",
    "                    RD[kq]=RD[kq]+1\n",
    "                }\n",
    "            }\n",
    "            if (i %in% Expert$Resource_ID)\n",
    "                {\n",
    "                Ej=Expert$Decision[Expert$Resource_ID==i]\n",
    "                if ((Ej>= 3 &  Dj>=3) )\n",
    "                    {\n",
    "                    A[kj,N]= A[kj,N]+1;A[N,kj]= A[N,kj]+1;\n",
    "                } \n",
    "                if ( (Ej< 3 &  Dj<3))\n",
    "                    {\n",
    "                    A[kj,N]= A[kj,N]+1;A[N,kj]= A[N,kj]+1;\n",
    "                } \n",
    "                \n",
    "                if ((Ej>= 3 &  Dj<3) ) \n",
    "                    {\n",
    "                    D[kj,N]= D[kj,N]+1;D[N,kj]= D[N,kj]+1;\n",
    "                }\n",
    "                if ((Ej< 3 &  Dj>=3) ) \n",
    "                    {\n",
    "                    D[kj,N]= D[kj,N]+1;D[N,kj]= D[N,kj]+1;\n",
    "                }\n",
    "            }\n",
    "        }\n",
    "        ########################### inferred decision on R\n",
    "        kj=match(users[n],u_id)\n",
    "        exclude[kj]=0\n",
    "        Dj=moderations$Decision[moderations$User_ID==users[n] & moderations$Resource_ID==i]\n",
    "        Win[n]=W[kj]\n",
    "        if (W[kj]>tauW & WT[kj]>tauWT & B[kj,N]>=tau)\n",
    "            {\n",
    "#                 neg=sum(moderations$Decision[moderations$User_ID==users[n] & moderations$Resource_ID %in% q_id [1:kq]]<3)\n",
    "#                 pos=sum(moderations$Decision[moderations$User_ID==users[n] & moderations$Resource_ID %in% q_id [1:kq]]>=3)\n",
    "                 if (Dj<3) {Neg[kj]= Neg[kj]+1; PN=(Pos[kj]+Neg[kj])/Neg[kj]}\n",
    "                if (Dj>=3) {Pos[kj]= Pos[kj]+1;PN=(Pos[kj]+Neg[kj])/Pos[kj]}\n",
    "                \n",
    "                PNj=pntrust(PN,.5) \n",
    "                si=si+Dj*(PNj*W[kj]); wi=wi+(PNj*W[kj])\n",
    "                            RhatN[kq]= RhatN[kq]+1 # number of decisions\n",
    "                            RhatW[kq]= wi # weight of decisions\n",
    "\n",
    "            }  # If Reliability User >0 AND sum trust*Relibility other users >0 ########################## DECISION\n",
    "      \n",
    "        Rhat[kq] = si/wi # inferred decision on R \n",
    "        RhatT[kq] = si/wi # inferred decision on R based on Users\n",
    "        if(wi==0)\n",
    "            {\n",
    "            Rhat[kq] = 0\n",
    "        RhatT[kq] = 0\n",
    "        }\n",
    "        Eimpact = max(Win) # no expert\n",
    "        if (i %in% Expert$Resource_ID)\n",
    "                {\n",
    "                Ej=Expert$Decision[Expert$Resource_ID==i]\n",
    "                if ((Ej>= 3 &  Dj>=3) )\n",
    "                    {\n",
    "                    A[kj,N]= A[kj,N]+1;A[N,kj]= A[N,kj]+1;\n",
    "                } \n",
    "                if ( (Ej< 3 &  Dj<3))\n",
    "                    {\n",
    "                    A[kj,N]= A[kj,N]+1;A[N,kj]= A[N,kj]+1;\n",
    "                } \n",
    "                \n",
    "                if ((Ej>= 3 &  Dj<3) ) \n",
    "                    {\n",
    "                    D[kj,N]= D[kj,N]+1;D[N,kj]= D[N,kj]+1;\n",
    "                }\n",
    "                if ((Ej< 3 &  Dj>=3) ) \n",
    "                    {\n",
    "                    D[kj,N]= D[kj,N]+1;D[N,kj]= D[N,kj]+1;\n",
    "                }\n",
    "            Rhat[kq] = Ej\n",
    "#             Eimpact = 1 # expert\n",
    "            }\n",
    "        Trust=trust((A-D),1) # Update trusts btw users\n",
    "        ########################### update user reliability\n",
    "        GRew=matrix(0,nrow=N ,ncol= 1 ) # Users' Gained Rewards\n",
    "        TC=matrix(0,nrow=N ,ncol= 1 ) # Connected Users\n",
    "        for(j in 1:n)\n",
    "            {\n",
    "            \n",
    "            kj = match(users[j],u_id)\n",
    "            TC=TC+abs(Trust[,kj])\n",
    "            Dj = moderations$Decision[moderations$User_ID==users[j] & moderations$Resource_ID==i]\n",
    "            Dl = Rhat[kq]\n",
    "            if ((Dl>= 3 &  Dj>=3) ) \n",
    "                {\n",
    "                \n",
    "                point= \n",
    "                reward(Dl-Dj,1,Eimpact*maxrew) * rdis(Dl,.1,.445) # Gain rewards * Resoource Discrimination\n",
    "                \n",
    "                } \n",
    "            if ( (Dl< 3 &  Dj<3)) \n",
    "                {\n",
    "                \n",
    "                point= \n",
    "                 reward(Dl-Dj,1,Eimpact*maxrew) * rdis(Dl,.1,.445) # Gain rewards * Resoource Discrimination\n",
    "                \n",
    "                } \n",
    "            \n",
    "            if ((Dl>= 3 &  Dj<3) ) \n",
    "                {\n",
    "                point= \n",
    "                punish(Dl-Dj,1,Eimpact*maxrew) * rdis(Dl,.1,.445) # Recieve Punishment * Resource Discrimination\n",
    "                }\n",
    "            if ((Dl< 3 &  Dj>=3) ) \n",
    "                {\n",
    "                point= \n",
    "                 punish(Dl-Dj,1,Eimpact*maxrew) * rdis(Dl,.1,.445) # Recieve Punishment * Resource Discrimination\n",
    "                }\n",
    "            GRew[kj] =  point\n",
    "        }\n",
    "        ########################### Propagation\n",
    "        others=exclude*c(u_id,1) # Remove current moderators\n",
    "        others[TC==0]=0 # Remove unconnected users\n",
    "        for (uc in others[others!=0]) # only connected users outside the supernode\n",
    "            {\n",
    "            kuc=match(uc,u_id)\n",
    "            relmax=W[kuc]\n",
    "            Tmax=0\n",
    "            for (um in users)\n",
    "                {\n",
    "                kum=match(um,u_id)\n",
    "                if (Trust[kuc,kum]!=0)\n",
    "                    {\n",
    "                    if (W[kum]>relmax)\n",
    "                        {\n",
    "                        relmax=W[kum]\n",
    "                        beta=.5\n",
    "                        if (i %in% Expert$Resource_ID)\n",
    "                        {\n",
    "                            beta=1\n",
    "                        }\n",
    "                        GRew[kuc] =  GRew[kum] * Trust[kuc,kum] *beta\n",
    "                        Tmax = abs(GRew[kuc])\n",
    "                    }\n",
    "                    if (W[kum]==relmax)\n",
    "                        {\n",
    "                        if (abs(GRew[kum] * Trust[kuc,kum])> Tmax)\n",
    "                            {\n",
    "                            relmax=W[kum]\n",
    "                             beta=.5\n",
    "                            if (i %in% Expert$Resource_ID)\n",
    "                            {\n",
    "                                beta=1\n",
    "                            }\n",
    "                            GRew[kuc] =  GRew[kum] * Trust[kuc,kum]* beta\n",
    "                            Tmax = abs(GRew[kuc])\n",
    "                        } \n",
    "                    }\n",
    "                }\n",
    "            }\n",
    "            \n",
    "            \n",
    "        }\n",
    "        if (i %in% Expert$Resource_ID)\n",
    "            {\n",
    "            others=exclude*c(u_id,1) # Remove current moderators\n",
    "            GRew[N]=reward(Dl-Dj,1,Eimpact*maxrew) * rdis(Dl,.1,.445) \n",
    "            beta=1\n",
    "            for (uc in others[others!=0]) # only connected users outside the supernode\n",
    "                {\n",
    "                kuc=match(uc,u_id)\n",
    "                if (Trust[kuc,N]!=0)\n",
    "                    {\n",
    "                    GRew[kuc] =  GRew[N] * Trust[kuc,N]* beta\n",
    "                    }\n",
    "                \n",
    "            }                  \n",
    "        }\n",
    "\n",
    "        Rew = Rew + GRew\n",
    "        W = scoreG(Rew,rel_teta) # update user reliability\n",
    "        W[N]=1 # Expert\n",
    "        WT =  (Trust %*% W)\n",
    "        kq=kq+1    \n",
    "    }\n",
    "    ##################################### Evaluation #####################################\n",
    "\n",
    "RQ=data.frame(q_id,RhatT)\n",
    "    inferred=vector()\n",
    "    k=1\n",
    "    for (i in Expert$Resource_ID)\n",
    "        {\n",
    "        inferred[k]=RQ$RhatT[RQ$q_id==i]\n",
    "        k=k+1\n",
    "    }\n",
    "results(Expert$Decision,inferred,3)"
   ]
  },
  {
   "cell_type": "code",
   "execution_count": 20,
   "metadata": {},
   "outputs": [],
   "source": [
    "NEUR2$graph=inferred"
   ]
  },
  {
   "cell_type": "markdown",
   "metadata": {},
   "source": [
    "# Competence"
   ]
  },
  {
   "cell_type": "code",
   "execution_count": 17,
   "metadata": {},
   "outputs": [
    {
     "data": {
      "text/html": [
       "<ol class=list-inline>\n",
       "\t<li>0.99</li>\n",
       "\t<li>0.1</li>\n",
       "\t<li>0.54</li>\n",
       "\t<li>0.65</li>\n",
       "\t<li>0.38</li>\n",
       "\t<li>1.33</li>\n",
       "</ol>\n"
      ],
      "text/latex": [
       "\\begin{enumerate*}\n",
       "\\item 0.99\n",
       "\\item 0.1\n",
       "\\item 0.54\n",
       "\\item 0.65\n",
       "\\item 0.38\n",
       "\\item 1.33\n",
       "\\end{enumerate*}\n"
      ],
      "text/markdown": [
       "1. 0.99\n",
       "2. 0.1\n",
       "3. 0.54\n",
       "4. 0.65\n",
       "5. 0.38\n",
       "6. 1.33\n",
       "\n",
       "\n"
      ],
      "text/plain": [
       "[1] 0.99 0.10 0.54 0.65 0.38 1.33"
      ]
     },
     "metadata": {},
     "output_type": "display_data"
    }
   ],
   "source": [
    "initial=1000\n",
    "score <- function(x){    # reliability score function\n",
    "     mu=0\n",
    "    sigma= .75     #var(Total$Diff)/2=0.7502/2\n",
    "    normal <- 1/(sqrt(2 * pi) * sigma) * exp(-((x - mu)^2/(2* sigma^2)))\n",
    "    normal0 <- 1/(sqrt(2 * pi) * sigma) * exp(-(( - mu)^2/(2* sigma^2)))\n",
    "    out <- 100*(normal-normal0/2) # \n",
    "    return(out)\n",
    "    }\n",
    "Total_User_ID=unique(Total$User_ID)\n",
    "Total_Resource_ID=unique(Total$Resource_ID)\n",
    "############## Reliabity calculation\n",
    "Moderating_Score=matrix(initial, nrow = length(Total_User_ID), ncol = 1)#initial\n",
    "Resource_Quality=matrix(nrow = length(Total_Resource_ID), ncol = 1)\n",
    "kr=1\n",
    "moderation_NEUR_current=matrix(nrow = dim(Total)[1], ncol = 3)\n",
    "for(i in Total_Resource_ID)\n",
    "    {\n",
    "\n",
    "        wsum=0;\n",
    "        rsum=0\n",
    "\n",
    "            for (j in Total$User_ID[Total$Resource_ID==i] )\n",
    "            {\n",
    "                kk=match(j,Total_User_ID)\n",
    "                if(Moderating_Score[kk]>0)\n",
    "                    {\n",
    "                    rsum= rsum+ (Total$Decision[Total$User_ID==j & \n",
    "                                         Total$Resource_ID==i])*\n",
    "                                            Moderating_Score[kk]*\n",
    "                            (Total$correctness[Total$User_ID==j & Total$Resource_ID==i]+1)\n",
    "                #engagement , correctness ,N_moderation,\n",
    "                   # topic_engagement , topic_correctness , N_topic_moderation\n",
    "                # \"+1\" is for those with 0 attempts \n",
    "                    wsum=wsum+\n",
    "                    Moderating_Score[kk]*\n",
    "                            (Total$correctness[Total$User_ID==j & Total$Resource_ID==i]+1)\n",
    "                #engagement , correctness ,N_moderation,\n",
    "                   # topic_engagement , topic_correctness , N_topic_moderation\n",
    "                # \"+1\" is for those with 0 attempts \n",
    "                    }\n",
    "            }\n",
    "        rhat= rsum/wsum\n",
    "        for (j in Total$User_ID[Total$Resource_ID==i] )\n",
    "            {\n",
    "                kk=match(j,Total_User_ID)\n",
    "                Dr= rhat\n",
    "                        ################ expert\n",
    "                if(i %in% Expert$Resource_ID) {Dr=Expert$Decision[Expert$Resource_ID==i]}\n",
    "                        ########################\n",
    "\n",
    "                Moderating_Score[kk]=Moderating_Score[kk]+\n",
    "                    score((Total$Decision[Total$User_ID==j & \n",
    "                                     Total$Resource_ID==i]-Dr))\n",
    "#             if(Moderating_Score[kk]<=0) Moderating_Score[kk]=1\n",
    "      \n",
    "        }\n",
    "        Resource_Quality[kr]=rhat\n",
    "kr=kr+1\n",
    "    }\n",
    "####################################\n",
    "RQ=data.frame(Resource_Quality)\n",
    "RQ$Resource_ID =Total_Resource_ID\n",
    "\n",
    "############################################ Evaluation\n",
    "\n",
    "Test_Data_Resource_ID=unique(Expert$Resource_ID)\n",
    "Test_Data_Users_Decision=matrix(0, nrow = length(Test_Data_Resource_ID), ncol = 3)\n",
    "k=1\n",
    "for (i in Test_Data_Resource_ID)\n",
    "    {\n",
    "    Test_Data_Users_Decision[k,1]=i\n",
    "    Test_Data_Users_Decision[k,2]=Expert$Decision[Expert$Resource_ID==i]\n",
    "    Test_Data_Users_Decision[k,3]=RQ$Resource_Quality[RQ$Resource_ID==i]\n",
    "   k=k+1\n",
    "    }\n",
    "########################################################################\n",
    "Expert_Decision=Test_Data_Users_Decision[,2]\n",
    "Users_Decision=Test_Data_Users_Decision[,3]\n",
    "results(Expert_Decision,Users_Decision)"
   ]
  },
  {
   "cell_type": "code",
   "execution_count": 18,
   "metadata": {},
   "outputs": [],
   "source": [
    "NEUR2$correctness=Users_Decision"
   ]
  },
  {
   "cell_type": "code",
   "execution_count": 36,
   "metadata": {},
   "outputs": [
    {
     "data": {
      "text/html": [
       "<ol class=list-inline>\n",
       "\t<li>1</li>\n",
       "\t<li>0.03</li>\n",
       "\t<li>0.52</li>\n",
       "\t<li>0.63</li>\n",
       "\t<li>0.54</li>\n",
       "\t<li>1.32</li>\n",
       "</ol>\n"
      ],
      "text/latex": [
       "\\begin{enumerate*}\n",
       "\\item 1\n",
       "\\item 0.03\n",
       "\\item 0.52\n",
       "\\item 0.63\n",
       "\\item 0.54\n",
       "\\item 1.32\n",
       "\\end{enumerate*}\n"
      ],
      "text/markdown": [
       "1. 1\n",
       "2. 0.03\n",
       "3. 0.52\n",
       "4. 0.63\n",
       "5. 0.54\n",
       "6. 1.32\n",
       "\n",
       "\n"
      ],
      "text/plain": [
       "[1] 1.00 0.03 0.52 0.63 0.54 1.32"
      ]
     },
     "metadata": {},
     "output_type": "display_data"
    }
   ],
   "source": [
    "# User Confidence\n",
    "\n",
    "initial=1000\n",
    "score <- function(x){    # reliability score function\n",
    "     mu=0\n",
    "    sigma= .75     #var(Total$Diff)/2=0.7502/2\n",
    "    normal <- 1/(sqrt(2 * pi) * sigma) * exp(-((x - mu)^2/(2* sigma^2)))\n",
    "    normal0 <- 1/(sqrt(2 * pi) * sigma) * exp(-(( - mu)^2/(2* sigma^2)))\n",
    "    out <- 100*(normal-normal0/2) # \n",
    "    return(out)\n",
    "    }\n",
    "Total_User_ID=unique(Total$User_ID)\n",
    "Total_Resource_ID=unique(Total$Resource_ID)\n",
    "############## Reliabity calculation\n",
    "Moderating_Score=matrix(initial, nrow = length(Total_User_ID), ncol = 1)#initial\n",
    "Resource_Quality=matrix(nrow = length(Total_Resource_ID), ncol = 1)\n",
    "kr=1\n",
    "moderation_NEUR_current=matrix(nrow = dim(Total)[1], ncol = 3)\n",
    "for(i in Total_Resource_ID)\n",
    "    {\n",
    "\n",
    "        wsum=0;\n",
    "        rsum=0\n",
    "\n",
    "            for (j in Total$User_ID[Total$Resource_ID==i] )\n",
    "            {\n",
    "                kk=match(j,Total_User_ID)\n",
    "                if(Moderating_Score[kk]>0)\n",
    "                    {\n",
    "                    rsum= rsum+ (Total$Decision[Total$User_ID==j & \n",
    "                                         Total$Resource_ID==i])*\n",
    "                                            Total$Confidence[Total$User_ID==j & \n",
    "                                         Total$Resource_ID==i]\n",
    "                    wsum=wsum+Total$Confidence[Total$User_ID==j & \n",
    "                                         Total$Resource_ID==i]\n",
    "                    }\n",
    "            }\n",
    "        rhat= rsum/wsum\n",
    "        for (j in Total$User_ID[Total$Resource_ID==i] )\n",
    "            {\n",
    "                kk=match(j,Total_User_ID)\n",
    "                Dr= rhat\n",
    "                        ################ expert\n",
    "                if(i %in% Expert$Resource_ID) {Dr=Expert$Decision[Expert$Resource_ID==i]}\n",
    "                        ########################\n",
    "\n",
    "                Moderating_Score[kk]=Moderating_Score[kk]+\n",
    "                    score((Total$Decision[Total$User_ID==j & \n",
    "                                     Total$Resource_ID==i]-Dr))\n",
    "      \n",
    "        }\n",
    "        Resource_Quality[kr]=rhat\n",
    "kr=kr+1\n",
    "    }\n",
    "####################################\n",
    "RQ=data.frame(Resource_Quality)\n",
    "RQ$Resource_ID =Total_Resource_ID\n",
    "\n",
    "############################################ Evaluation\n",
    "\n",
    "Test_Data_Resource_ID=unique(Expert$Resource_ID)\n",
    "Test_Data_Users_Decision=matrix(0, nrow = length(Test_Data_Resource_ID), ncol = 3)\n",
    "k=1\n",
    "for (i in Test_Data_Resource_ID)\n",
    "    {\n",
    "    Test_Data_Users_Decision[k,1]=i\n",
    "    Test_Data_Users_Decision[k,2]=Expert$Decision[Expert$Resource_ID==i]\n",
    "    Test_Data_Users_Decision[k,3]=RQ$Resource_Quality[RQ$Resource_ID==i]\n",
    "   k=k+1\n",
    "    }\n",
    "########################################################################\n",
    "Expert_Decision=Test_Data_Users_Decision[,2]\n",
    "Users_Decision=Test_Data_Users_Decision[,3]\n",
    "results(Expert_Decision,Users_Decision)"
   ]
  },
  {
   "cell_type": "markdown",
   "metadata": {},
   "source": [
    "# GLEU"
   ]
  },
  {
   "cell_type": "code",
   "execution_count": 22,
   "metadata": {},
   "outputs": [
    {
     "data": {
      "text/html": [
       "<ol class=list-inline>\n",
       "\t<li>1</li>\n",
       "\t<li>0.1</li>\n",
       "\t<li>0.55</li>\n",
       "\t<li>0.66</li>\n",
       "\t<li>0.51</li>\n",
       "\t<li>1.26</li>\n",
       "</ol>\n"
      ],
      "text/latex": [
       "\\begin{enumerate*}\n",
       "\\item 1\n",
       "\\item 0.1\n",
       "\\item 0.55\n",
       "\\item 0.66\n",
       "\\item 0.51\n",
       "\\item 1.26\n",
       "\\end{enumerate*}\n"
      ],
      "text/markdown": [
       "1. 1\n",
       "2. 0.1\n",
       "3. 0.55\n",
       "4. 0.66\n",
       "5. 0.51\n",
       "6. 1.26\n",
       "\n",
       "\n"
      ],
      "text/plain": [
       "[1] 1.00 0.10 0.55 0.66 0.51 1.26"
      ]
     },
     "metadata": {},
     "output_type": "display_data"
    }
   ],
   "source": [
    "\n",
    "Total_User_ID=unique(Total$User_ID)\n",
    "Total_Resource_ID=unique(Total$Resource_ID)\n",
    "############## Reliabity calculation\n",
    "Resource_Quality=matrix(nrow = length(Total_Resource_ID), ncol = 1)\n",
    "kr=1\n",
    "for(i in Total_Resource_ID)\n",
    "    {\n",
    "\n",
    "        wsum=0;\n",
    "        rsum=0\n",
    "\n",
    "            for (j in Total$User_ID[Total$Resource_ID==i] )\n",
    "            {\n",
    "             \n",
    "                    rsum= rsum+ (Total$Decision[Total$User_ID==j & Total$Resource_ID==i])*\n",
    "                                            (1+50*Total$GLEU[Total$User_ID==j &Total$Resource_ID==i])\n",
    "                    wsum=wsum+(1+50*Total$GLEU[Total$User_ID==j &Total$Resource_ID==i])\n",
    "                    \n",
    "            }\n",
    "        rhat= rsum/wsum\n",
    "\n",
    "        Resource_Quality[kr]=rhat\n",
    "kr=kr+1\n",
    "    }\n",
    "####################################\n",
    "RQ=data.frame(Resource_Quality)\n",
    "RQ$Resource_ID =Total_Resource_ID\n",
    "\n",
    "############################################ Evaluation\n",
    "\n",
    "Test_Data_Resource_ID=unique(Expert$Resource_ID)\n",
    "Test_Data_Users_Decision=matrix(0, nrow = length(Test_Data_Resource_ID), ncol = 3)\n",
    "k=1\n",
    "for (i in Test_Data_Resource_ID)\n",
    "    {\n",
    "    Test_Data_Users_Decision[k,1]=i\n",
    "    Test_Data_Users_Decision[k,2]=Expert$Decision[Expert$Resource_ID==i]\n",
    "    Test_Data_Users_Decision[k,3]=RQ$Resource_Quality[RQ$Resource_ID==i]\n",
    "   k=k+1\n",
    "    }\n",
    "########################################################################\n",
    "Expert_Decision=Test_Data_Users_Decision[,2]\n",
    "Users_Decision=Test_Data_Users_Decision[,3]\n",
    "results(Expert_Decision,Users_Decision)"
   ]
  },
  {
   "cell_type": "code",
   "execution_count": 21,
   "metadata": {},
   "outputs": [
    {
     "data": {
      "text/html": [
       "<ol class=list-inline>\n",
       "\t<li>0.99</li>\n",
       "\t<li>0.13</li>\n",
       "\t<li>0.56</li>\n",
       "\t<li>0.66</li>\n",
       "\t<li>0.49</li>\n",
       "\t<li>1.25</li>\n",
       "</ol>\n"
      ],
      "text/latex": [
       "\\begin{enumerate*}\n",
       "\\item 0.99\n",
       "\\item 0.13\n",
       "\\item 0.56\n",
       "\\item 0.66\n",
       "\\item 0.49\n",
       "\\item 1.25\n",
       "\\end{enumerate*}\n"
      ],
      "text/markdown": [
       "1. 0.99\n",
       "2. 0.13\n",
       "3. 0.56\n",
       "4. 0.66\n",
       "5. 0.49\n",
       "6. 1.25\n",
       "\n",
       "\n"
      ],
      "text/plain": [
       "[1] 0.99 0.13 0.56 0.66 0.49 1.25"
      ]
     },
     "metadata": {},
     "output_type": "display_data"
    }
   ],
   "source": [
    "results(Expert_Decision,Users_Decision)#100"
   ]
  },
  {
   "cell_type": "markdown",
   "metadata": {},
   "source": [
    "# Length"
   ]
  },
  {
   "cell_type": "code",
   "execution_count": 14,
   "metadata": {},
   "outputs": [
    {
     "data": {
      "text/html": [
       "<ol class=list-inline>\n",
       "\t<li>0.99</li>\n",
       "\t<li>0.26</li>\n",
       "\t<li>0.63</li>\n",
       "\t<li>0.71</li>\n",
       "\t<li>0.55</li>\n",
       "\t<li>1.17</li>\n",
       "</ol>\n"
      ],
      "text/latex": [
       "\\begin{enumerate*}\n",
       "\\item 0.99\n",
       "\\item 0.26\n",
       "\\item 0.63\n",
       "\\item 0.71\n",
       "\\item 0.55\n",
       "\\item 1.17\n",
       "\\end{enumerate*}\n"
      ],
      "text/markdown": [
       "1. 0.99\n",
       "2. 0.26\n",
       "3. 0.63\n",
       "4. 0.71\n",
       "5. 0.55\n",
       "6. 1.17\n",
       "\n",
       "\n"
      ],
      "text/plain": [
       "[1] 0.99 0.26 0.63 0.71 0.55 1.17"
      ]
     },
     "metadata": {},
     "output_type": "display_data"
    }
   ],
   "source": [
    "\n",
    "Total_User_ID=unique(Total$User_ID)\n",
    "Total_Resource_ID=unique(Total$Resource_ID)\n",
    "############## Reliabity calculation\n",
    "Resource_Quality=matrix(nrow = length(Total_Resource_ID), ncol = 1)\n",
    "kr=1\n",
    "for(i in Total_Resource_ID)\n",
    "    {\n",
    "\n",
    "        wsum=0;\n",
    "        rsum=0\n",
    "\n",
    "            for (j in Total$User_ID[Total$Resource_ID==i] )\n",
    "            {\n",
    "             \n",
    "                    rsum= rsum+ (Total$Decision[Total$User_ID==j & Total$Resource_ID==i])*\n",
    "                                            (Total$Words[Total$User_ID==j &Total$Resource_ID==i])\n",
    "                    wsum=wsum+(Total$Words[Total$User_ID==j &Total$Resource_ID==i])\n",
    "                    \n",
    "            }\n",
    "        rhat= rsum/wsum\n",
    "\n",
    "        Resource_Quality[kr]=rhat\n",
    "kr=kr+1\n",
    "    }\n",
    "####################################\n",
    "RQ=data.frame(Resource_Quality)\n",
    "RQ$Resource_ID =Total_Resource_ID\n",
    "\n",
    "############################################ Evaluation\n",
    "\n",
    "Test_Data_Resource_ID=unique(Expert$Resource_ID)\n",
    "Test_Data_Users_Decision=matrix(0, nrow = length(Test_Data_Resource_ID), ncol = 3)\n",
    "k=1\n",
    "for (i in Test_Data_Resource_ID)\n",
    "    {\n",
    "    Test_Data_Users_Decision[k,1]=i\n",
    "    Test_Data_Users_Decision[k,2]=Expert$Decision[Expert$Resource_ID==i]\n",
    "    Test_Data_Users_Decision[k,3]=RQ$Resource_Quality[RQ$Resource_ID==i]\n",
    "   k=k+1\n",
    "    }\n",
    "########################################################################\n",
    "Expert_Decision=Test_Data_Users_Decision[,2]\n",
    "Users_Decision=Test_Data_Users_Decision[,3]\n",
    "results(Expert_Decision,Users_Decision)"
   ]
  },
  {
   "cell_type": "code",
   "execution_count": 15,
   "metadata": {},
   "outputs": [
    {
     "data": {
      "text/html": [
       "<ol class=list-inline>\n",
       "\t<li>0.99</li>\n",
       "\t<li>0.26</li>\n",
       "\t<li>0.63</li>\n",
       "\t<li>0.71</li>\n",
       "\t<li>0.55</li>\n",
       "\t<li>1.17</li>\n",
       "</ol>\n"
      ],
      "text/latex": [
       "\\begin{enumerate*}\n",
       "\\item 0.99\n",
       "\\item 0.26\n",
       "\\item 0.63\n",
       "\\item 0.71\n",
       "\\item 0.55\n",
       "\\item 1.17\n",
       "\\end{enumerate*}\n"
      ],
      "text/markdown": [
       "1. 0.99\n",
       "2. 0.26\n",
       "3. 0.63\n",
       "4. 0.71\n",
       "5. 0.55\n",
       "6. 1.17\n",
       "\n",
       "\n"
      ],
      "text/plain": [
       "[1] 0.99 0.26 0.63 0.71 0.55 1.17"
      ]
     },
     "metadata": {},
     "output_type": "display_data"
    }
   ],
   "source": [
    "results(Expert_Decision,Users_Decision)#100"
   ]
  },
  {
   "cell_type": "code",
   "execution_count": 19,
   "metadata": {},
   "outputs": [],
   "source": [
    "NEUR2$length=Users_Decision"
   ]
  },
  {
   "cell_type": "markdown",
   "metadata": {},
   "source": [
    "## Sentiment alingment"
   ]
  },
  {
   "cell_type": "code",
   "execution_count": 16,
   "metadata": {},
   "outputs": [
    {
     "data": {
      "text/html": [
       "<ol class=list-inline>\n",
       "\t<li>1</li>\n",
       "\t<li>0.07</li>\n",
       "\t<li>0.53</li>\n",
       "\t<li>0.65</li>\n",
       "\t<li>0.55</li>\n",
       "\t<li>1.28</li>\n",
       "</ol>\n"
      ],
      "text/latex": [
       "\\begin{enumerate*}\n",
       "\\item 1\n",
       "\\item 0.07\n",
       "\\item 0.53\n",
       "\\item 0.65\n",
       "\\item 0.55\n",
       "\\item 1.28\n",
       "\\end{enumerate*}\n"
      ],
      "text/markdown": [
       "1. 1\n",
       "2. 0.07\n",
       "3. 0.53\n",
       "4. 0.65\n",
       "5. 0.55\n",
       "6. 1.28\n",
       "\n",
       "\n"
      ],
      "text/plain": [
       "[1] 1.00 0.07 0.53 0.65 0.55 1.28"
      ]
     },
     "metadata": {},
     "output_type": "display_data"
    }
   ],
   "source": [
    "\n",
    "alingment <- function(x,y,z){   #x=Decision,y=Sentiment\n",
    "th=0.398647025\n",
    "if (z==0) #LINEAR\n",
    "    {\n",
    "         out= \n",
    "              (x-3)*(y-th)+5 #Linear\n",
    "         if (x==3) {\n",
    "            if (y>0) \n",
    "                out=\n",
    "                    sign(th-y)*abs(y-th)+5 #Linear\n",
    "             if (y<0) \n",
    "                 out=\n",
    "                    sign(y+th)*abs(y+th)+5 #Linear\n",
    "        }\n",
    "    } \n",
    "if (z==1) #LOG\n",
    "    {\n",
    "         out= \n",
    "              (x-3)*sign(y-th)*log(abs(y-th)*5)+5 #log\n",
    "         if (x==3) {\n",
    "            if (y>0) \n",
    "                out=\n",
    "             sign(th-y)*log(abs(y-th)*5)+5#log\n",
    "             if (y<0) \n",
    "                 out=\n",
    "             sign(y)*log(abs(y-th)*5)+5#log\n",
    "        }         \n",
    "     }        \n",
    "    return(out)\n",
    "    }\n",
    "Total_User_ID=unique(Total$User_ID)\n",
    "Total_Resource_ID=unique(Total$Resource_ID)\n",
    "############## Reliabity calculation\n",
    "Resource_Quality=matrix(nrow = length(Total_Resource_ID), ncol = 1)\n",
    "kr=1\n",
    "for(i in Total_Resource_ID)\n",
    "    {\n",
    "\n",
    "        wsum=0;\n",
    "        rsum=0\n",
    "\n",
    "            for (j in Total$User_ID[Total$Resource_ID==i] )\n",
    "            {\n",
    "             \n",
    "                    rsum= rsum+ (Total$Decision[Total$User_ID==j & Total$Resource_ID==i])*\n",
    "                                            alingment(Total$Decision[Total$User_ID==j & \n",
    "                                     Total$Resource_ID==i],\n",
    "                                     Total$Sentiment[Total$User_ID==j & \n",
    "                                     Total$Resource_ID==i],\n",
    "                                     0) # 0 for Linear and 1 for Log\n",
    "                    wsum=wsum+alingment(Total$Decision[Total$User_ID==j & \n",
    "                                     Total$Resource_ID==i],\n",
    "                                     Total$Sentiment[Total$User_ID==j & \n",
    "                                     Total$Resource_ID==i],\n",
    "                                     0) # 0 for Linear and 1 for Log\n",
    "                    \n",
    "            }\n",
    "        rhat= rsum/wsum\n",
    "\n",
    "        Resource_Quality[kr]=rhat\n",
    "kr=kr+1\n",
    "    }\n",
    "####################################\n",
    "RQ=data.frame(Resource_Quality)\n",
    "RQ$Resource_ID =Total_Resource_ID\n",
    "\n",
    "############################################ Evaluation\n",
    "\n",
    "Test_Data_Resource_ID=unique(Expert$Resource_ID)\n",
    "Test_Data_Users_Decision=matrix(0, nrow = length(Test_Data_Resource_ID), ncol = 3)\n",
    "k=1\n",
    "for (i in Test_Data_Resource_ID)\n",
    "    {\n",
    "    Test_Data_Users_Decision[k,1]=i\n",
    "    Test_Data_Users_Decision[k,2]=Expert$Decision[Expert$Resource_ID==i]\n",
    "    Test_Data_Users_Decision[k,3]=RQ$Resource_Quality[RQ$Resource_ID==i]\n",
    "   k=k+1\n",
    "    }\n",
    "########################################################################\n",
    "Expert_Decision=Test_Data_Users_Decision[,2]\n",
    "Users_Decision=Test_Data_Users_Decision[,3]\n",
    "results(Expert_Decision,Users_Decision)"
   ]
  },
  {
   "cell_type": "code",
   "execution_count": 15,
   "metadata": {},
   "outputs": [
    {
     "data": {
      "text/html": [
       "<ol class=list-inline>\n",
       "\t<li>1</li>\n",
       "\t<li>0.08</li>\n",
       "\t<li>0.54</li>\n",
       "\t<li>0.65</li>\n",
       "\t<li>0.56</li>\n",
       "\t<li>1.27</li>\n",
       "</ol>\n"
      ],
      "text/latex": [
       "\\begin{enumerate*}\n",
       "\\item 1\n",
       "\\item 0.08\n",
       "\\item 0.54\n",
       "\\item 0.65\n",
       "\\item 0.56\n",
       "\\item 1.27\n",
       "\\end{enumerate*}\n"
      ],
      "text/markdown": [
       "1. 1\n",
       "2. 0.08\n",
       "3. 0.54\n",
       "4. 0.65\n",
       "5. 0.56\n",
       "6. 1.27\n",
       "\n",
       "\n"
      ],
      "text/plain": [
       "[1] 1.00 0.08 0.54 0.65 0.56 1.27"
      ]
     },
     "metadata": {},
     "output_type": "display_data"
    }
   ],
   "source": [
    "results(Expert_Decision,Users_Decision)"
   ]
  },
  {
   "cell_type": "markdown",
   "metadata": {},
   "source": [
    "# BERT"
   ]
  },
  {
   "cell_type": "code",
   "execution_count": 11,
   "metadata": {},
   "outputs": [
    {
     "data": {
      "text/html": [
       "<ol class=list-inline>\n",
       "\t<li>0.99</li>\n",
       "\t<li>0.22</li>\n",
       "\t<li>0.6</li>\n",
       "\t<li>0.7</li>\n",
       "\t<li>0.57</li>\n",
       "\t<li>1.21</li>\n",
       "</ol>\n"
      ],
      "text/latex": [
       "\\begin{enumerate*}\n",
       "\\item 0.99\n",
       "\\item 0.22\n",
       "\\item 0.6\n",
       "\\item 0.7\n",
       "\\item 0.57\n",
       "\\item 1.21\n",
       "\\end{enumerate*}\n"
      ],
      "text/markdown": [
       "1. 0.99\n",
       "2. 0.22\n",
       "3. 0.6\n",
       "4. 0.7\n",
       "5. 0.57\n",
       "6. 1.21\n",
       "\n",
       "\n"
      ],
      "text/plain": [
       "[1] 0.99 0.22 0.60 0.70 0.57 1.21"
      ]
     },
     "metadata": {},
     "output_type": "display_data"
    }
   ],
   "source": [
    "Total_User_ID=unique(Total$User_ID)\n",
    "Total_Resource_ID=unique(Total$Resource_ID)\n",
    "############## Reliabity calculation\n",
    "Resource_Quality=matrix(nrow = length(Total_Resource_ID), ncol = 1)\n",
    "kr=1\n",
    "for(i in Total_Resource_ID)\n",
    "    {\n",
    "\n",
    "        wsum=0;\n",
    "        rsum=0\n",
    "\n",
    "            for (j in Total$User_ID[Total$Resource_ID==i] )\n",
    "            {\n",
    "             \n",
    "                    rsum= rsum+ (Total$Decision[Total$User_ID==j & Total$Resource_ID==i])*\n",
    "                                            (1+100*abs(Total$similarity[Total$User_ID==j &Total$Resource_ID==i]))\n",
    "                    wsum=wsum+(1+100*abs(Total$similarity[Total$User_ID==j &Total$Resource_ID==i]))\n",
    "                    \n",
    "            }\n",
    "        rhat= rsum/wsum\n",
    "\n",
    "        Resource_Quality[kr]=rhat\n",
    "kr=kr+1\n",
    "    }\n",
    "####################################\n",
    "RQ=data.frame(Resource_Quality)\n",
    "RQ$Resource_ID =Total_Resource_ID\n",
    "\n",
    "############################################ Evaluation\n",
    "\n",
    "Test_Data_Resource_ID=unique(Expert$Resource_ID)\n",
    "Test_Data_Users_Decision=matrix(0, nrow = length(Test_Data_Resource_ID), ncol = 3)\n",
    "k=1\n",
    "for (i in Test_Data_Resource_ID)\n",
    "    {\n",
    "    Test_Data_Users_Decision[k,1]=i\n",
    "    Test_Data_Users_Decision[k,2]=Expert$Decision[Expert$Resource_ID==i]\n",
    "    Test_Data_Users_Decision[k,3]=RQ$Resource_Quality[RQ$Resource_ID==i]\n",
    "   k=k+1\n",
    "    }\n",
    "########################################################################\n",
    "Expert_Decision=Test_Data_Users_Decision[,2]\n",
    "Users_Decision=Test_Data_Users_Decision[,3]\n",
    "results(Expert_Decision,Users_Decision)"
   ]
  },
  {
   "cell_type": "markdown",
   "metadata": {},
   "source": [
    "# Length x GLEU"
   ]
  },
  {
   "cell_type": "code",
   "execution_count": 12,
   "metadata": {},
   "outputs": [
    {
     "data": {
      "text/html": [
       "<ol class=list-inline>\n",
       "\t<li>0.98</li>\n",
       "\t<li>0.27</li>\n",
       "\t<li>0.63</li>\n",
       "\t<li>0.71</li>\n",
       "\t<li>0.52</li>\n",
       "\t<li>1.18</li>\n",
       "</ol>\n"
      ],
      "text/latex": [
       "\\begin{enumerate*}\n",
       "\\item 0.98\n",
       "\\item 0.27\n",
       "\\item 0.63\n",
       "\\item 0.71\n",
       "\\item 0.52\n",
       "\\item 1.18\n",
       "\\end{enumerate*}\n"
      ],
      "text/markdown": [
       "1. 0.98\n",
       "2. 0.27\n",
       "3. 0.63\n",
       "4. 0.71\n",
       "5. 0.52\n",
       "6. 1.18\n",
       "\n",
       "\n"
      ],
      "text/plain": [
       "[1] 0.98 0.27 0.63 0.71 0.52 1.18"
      ]
     },
     "metadata": {},
     "output_type": "display_data"
    }
   ],
   "source": [
    "Total_User_ID=unique(Total$User_ID)\n",
    "Total_Resource_ID=unique(Total$Resource_ID)\n",
    "############## Reliabity calculation\n",
    "Resource_Quality=matrix(nrow = length(Total_Resource_ID), ncol = 1)\n",
    "kr=1\n",
    "for(i in Total_Resource_ID)\n",
    "    {\n",
    "\n",
    "        wsum=0;\n",
    "        rsum=0\n",
    "\n",
    "            for (j in Total$User_ID[Total$Resource_ID==i] )\n",
    "            {\n",
    "             \n",
    "                    rsum= rsum+ (Total$Decision[Total$User_ID==j & Total$Resource_ID==i])*\n",
    "                                            (Total$Words[Total$User_ID==j &Total$Resource_ID==i])*\n",
    "                                            (1+100*Total$GLEU[Total$User_ID==j &Total$Resource_ID==i])\n",
    "                    wsum=wsum+(Total$Words[Total$User_ID==j &Total$Resource_ID==i])*\n",
    "                                            (1+100*Total$GLEU[Total$User_ID==j &Total$Resource_ID==i])\n",
    "                    \n",
    "            }\n",
    "        rhat= rsum/wsum\n",
    "\n",
    "        Resource_Quality[kr]=rhat\n",
    "kr=kr+1\n",
    "    }\n",
    "####################################\n",
    "RQ=data.frame(Resource_Quality)\n",
    "RQ$Resource_ID =Total_Resource_ID\n",
    "\n",
    "############################################ Evaluation\n",
    "\n",
    "Test_Data_Resource_ID=unique(Expert$Resource_ID)\n",
    "Test_Data_Users_Decision=matrix(0, nrow = length(Test_Data_Resource_ID), ncol = 3)\n",
    "k=1\n",
    "for (i in Test_Data_Resource_ID)\n",
    "    {\n",
    "    Test_Data_Users_Decision[k,1]=i\n",
    "    Test_Data_Users_Decision[k,2]=Expert$Decision[Expert$Resource_ID==i]\n",
    "    Test_Data_Users_Decision[k,3]=RQ$Resource_Quality[RQ$Resource_ID==i]\n",
    "   k=k+1\n",
    "    }\n",
    "########################################################################\n",
    "Expert_Decision=Test_Data_Users_Decision[,2]\n",
    "Users_Decision=Test_Data_Users_Decision[,3]\n",
    "results(Expert_Decision,Users_Decision)"
   ]
  },
  {
   "cell_type": "markdown",
   "metadata": {},
   "source": [
    "# Length x BERT"
   ]
  },
  {
   "cell_type": "code",
   "execution_count": 21,
   "metadata": {},
   "outputs": [
    {
     "data": {
      "text/html": [
       "<ol class=list-inline>\n",
       "\t<li>0.98</li>\n",
       "\t<li>0.31</li>\n",
       "\t<li>0.65</li>\n",
       "\t<li>0.73</li>\n",
       "\t<li>0.55</li>\n",
       "\t<li>1.14</li>\n",
       "</ol>\n"
      ],
      "text/latex": [
       "\\begin{enumerate*}\n",
       "\\item 0.98\n",
       "\\item 0.31\n",
       "\\item 0.65\n",
       "\\item 0.73\n",
       "\\item 0.55\n",
       "\\item 1.14\n",
       "\\end{enumerate*}\n"
      ],
      "text/markdown": [
       "1. 0.98\n",
       "2. 0.31\n",
       "3. 0.65\n",
       "4. 0.73\n",
       "5. 0.55\n",
       "6. 1.14\n",
       "\n",
       "\n"
      ],
      "text/plain": [
       "[1] 0.98 0.31 0.65 0.73 0.55 1.14"
      ]
     },
     "metadata": {},
     "output_type": "display_data"
    }
   ],
   "source": [
    "Total_User_ID=unique(Total$User_ID)\n",
    "Total_Resource_ID=unique(Total$Resource_ID)\n",
    "############## Reliabity calculation\n",
    "Resource_Quality=matrix(nrow = length(Total_Resource_ID), ncol = 1)\n",
    "kr=1\n",
    "for(i in Total_Resource_ID)\n",
    "    {\n",
    "\n",
    "        wsum=0;\n",
    "        rsum=0\n",
    "\n",
    "            for (j in Total$User_ID[Total$Resource_ID==i] )\n",
    "            {\n",
    "             \n",
    "                    rsum= rsum+ (Total$Decision[Total$User_ID==j & Total$Resource_ID==i])*\n",
    "                                            (Total$Words[Total$User_ID==j &Total$Resource_ID==i])*\n",
    "                                            (1+100*abs(Total$similarity[Total$User_ID==j &Total$Resource_ID==i]))\n",
    "                    wsum=wsum+(Total$Words[Total$User_ID==j &Total$Resource_ID==i])*\n",
    "                                            (1+100*abs(Total$similarity[Total$User_ID==j &Total$Resource_ID==i]))\n",
    "                    \n",
    "            }\n",
    "        rhat= rsum/wsum\n",
    "\n",
    "        Resource_Quality[kr]=rhat\n",
    "kr=kr+1\n",
    "    }\n",
    "####################################\n",
    "RQ=data.frame(Resource_Quality)\n",
    "RQ$Resource_ID =Total_Resource_ID\n",
    "\n",
    "############################################ Evaluation\n",
    "\n",
    "Test_Data_Resource_ID=unique(Expert$Resource_ID)\n",
    "Test_Data_Users_Decision=matrix(0, nrow = length(Test_Data_Resource_ID), ncol = 3)\n",
    "k=1\n",
    "for (i in Test_Data_Resource_ID)\n",
    "    {\n",
    "    Test_Data_Users_Decision[k,1]=i\n",
    "    Test_Data_Users_Decision[k,2]=Expert$Decision[Expert$Resource_ID==i]\n",
    "    Test_Data_Users_Decision[k,3]=RQ$Resource_Quality[RQ$Resource_ID==i]\n",
    "   k=k+1\n",
    "    }\n",
    "########################################################################\n",
    "Expert_Decision=Test_Data_Users_Decision[,2]\n",
    "Users_Decision=Test_Data_Users_Decision[,3]\n",
    "results(Expert_Decision,Users_Decision)"
   ]
  },
  {
   "cell_type": "code",
   "execution_count": 22,
   "metadata": {},
   "outputs": [],
   "source": [
    "NEUR2$bert=Users_Decision"
   ]
  },
  {
   "cell_type": "markdown",
   "metadata": {},
   "source": [
    "# Graph with Length X BERT"
   ]
  },
  {
   "cell_type": "code",
   "execution_count": 23,
   "metadata": {},
   "outputs": [
    {
     "data": {
      "text/html": [
       "<ol class=list-inline>\n",
       "\t<li>0.91</li>\n",
       "\t<li>0.5</li>\n",
       "\t<li>0.71</li>\n",
       "\t<li>0.76</li>\n",
       "\t<li>0.56</li>\n",
       "\t<li>1.05</li>\n",
       "</ol>\n"
      ],
      "text/latex": [
       "\\begin{enumerate*}\n",
       "\\item 0.91\n",
       "\\item 0.5\n",
       "\\item 0.71\n",
       "\\item 0.76\n",
       "\\item 0.56\n",
       "\\item 1.05\n",
       "\\end{enumerate*}\n"
      ],
      "text/markdown": [
       "1. 0.91\n",
       "2. 0.5\n",
       "3. 0.71\n",
       "4. 0.76\n",
       "5. 0.56\n",
       "6. 1.05\n",
       "\n",
       "\n"
      ],
      "text/plain": [
       "[1] 0.91 0.50 0.71 0.76 0.56 1.05"
      ]
     },
     "metadata": {},
     "output_type": "display_data"
    }
   ],
   "source": [
    "moderations=Total\n",
    "##################################### Initializing #####################################\n",
    "reward0=500 # Initial reward point\n",
    "rel_teta=.001 # Relibility function coef\n",
    "maxrew=100\n",
    "tp=vector()\n",
    "tn=vector()\n",
    "auc=vector()\n",
    "cor=vector()\n",
    "rmse=vector()\n",
    "\n",
    "    N=length(u_id)+1\n",
    "    ##################################### Variables #####################################\n",
    "    Pos=matrix(0,nrow=N ,ncol= 1 ) # Users' Positive Ratings\n",
    "    Neg=matrix(0,nrow=N ,ncol= 1 ) # Users' Negative Ratings\n",
    "    Rew=matrix(reward0,nrow=N ,ncol= 1 ) # Users' Rewards\n",
    "    W=matrix(scoreG(reward0,rel_teta),nrow=N ,ncol= 1 ) # Users' Reliability\n",
    "    W[N]=1\n",
    "    Trust= diag(N) #matrix(0,nrow=N ,ncol= N ) \n",
    "    A=matrix(0,nrow=N ,ncol= N ) # agreements btw users\n",
    "    D=matrix(0,nrow=N ,ncol= N ) # disagreements btw users\n",
    "    WT = (Trust %*% W) # Weight based on reliability and others Trust\n",
    "    RA=matrix(0,nrow=length(q_id) ,ncol= 1 ) # number of agreements on Rj\n",
    "    RD=matrix(0,nrow=length(q_id) ,ncol= 1 ) # number of disagreements on Rj\n",
    "    Rhat=matrix(0,nrow=length(q_id) ,ncol= 1 ) # Inferred Decision on Rj\n",
    "    RhatT=matrix(0,nrow=length(q_id) ,ncol= 1 ) # Inferred Decision on Rj\n",
    "    RhatN=matrix(0,nrow=length(q_id) ,ncol= 1 ) # Number of Decision on Rj\n",
    "    RhatW=matrix(0,nrow=length(q_id) ,ncol= 1 ) # Number of Decision on Rj\n",
    "    \n",
    "    \n",
    "    kq=1\n",
    "    for(i in q_id)\n",
    "        {\n",
    "        B= Trust %*% Trust\n",
    "        tau=quantile(B[1:N-1,N],names = FALSE)[1]\n",
    "        tauWT=quantile(WT,names = FALSE)[1]\n",
    "        tauW=quantile(W,names = FALSE)[1]\n",
    "        users=moderations$User_ID[moderations$Resource_ID==i]\n",
    "        n=length(users)\n",
    "        si=0\n",
    "        wi=0\n",
    "        Win= matrix(1,nrow= n,ncol=1) # collecting user reliability\n",
    "        exclude= matrix(1,nrow= N,ncol=1) # removing those moderated this resource for trust propagation and keeping others\n",
    "        exclude[N]=0\n",
    "        for(j in 1:(n-1))\n",
    "            {\n",
    "            kj=match(users[j],u_id)\n",
    "            exclude[kj]=0\n",
    "            Win[j]=W[kj]\n",
    "            Dj=moderations$Decision[moderations$User_ID==users[j] & moderations$Resource_ID==i]\n",
    "            if (W[kj]>tauW & WT[kj]>tauWT &  B[kj,N]>=tau) \n",
    "            {\n",
    "#                 neg=sum(moderations$Decision[moderations$User_ID==users[j] & moderations$Resource_ID %in% q_id [1:kq]]<3)\n",
    "#                 pos=sum(moderations$Decision[moderations$User_ID==users[j] & moderations$Resource_ID %in% q_id [1:kq]]>=3)\n",
    "                if (Dj<3) {Neg[kj]= Neg[kj]+1; PN=(Pos[kj]+Neg[kj])/Neg[kj]}\n",
    "                if (Dj>=3) {Pos[kj]= Pos[kj]+1;PN=(Pos[kj]+Neg[kj])/Pos[kj]}\n",
    "                \n",
    "                PNj=pntrust(PN,.5) \n",
    "                si=si+Dj*(PNj*W[kj])* \n",
    "                (moderations$Words[moderations$User_ID==users[j] & moderations$Resource_ID==i])*\n",
    "                    (1+100*abs(moderations$similarity[moderations$User_ID==users[j] &moderations$Resource_ID==i]))\n",
    "                wi=wi+(PNj*W[kj])* \n",
    "                (moderations$Words[moderations$User_ID==users[j] & moderations$Resource_ID==i])*\n",
    "                    (1+100*abs(moderations$similarity[moderations$User_ID==users[j] &moderations$Resource_ID==i]))\n",
    "                                RhatN[kq]= RhatN[kq]+1 # number of decisions\n",
    "                                RhatW[kq]= wi # number of decisions\n",
    "\n",
    "            }                                                                               ########################## DECISION\n",
    "            for(l in users[(j+1):n])\n",
    "                {\n",
    "                kl=match(l,u_id)\n",
    "                Dl=moderations$Decision[moderations$User_ID==l & moderations$Resource_ID==i]\n",
    "                if ((Dl>= 3 &  Dj>=3) | (Dl< 3 &  Dj<3)) \n",
    "                {\n",
    "                    A[kj,kl]= A[kj,kl]+1;A[kl,kj]= A[kl,kj]+1;\n",
    "                    RA[kq]=RA[kq]+1\n",
    "                } \n",
    "                else \n",
    "                {\n",
    "                    D[kj,kl]= D[kj,kl]+1;D[kl,kj]= D[kl,kj]+1;\n",
    "                    RD[kq]=RD[kq]+1\n",
    "                }\n",
    "            }\n",
    "            if (i %in% Expert$Resource_ID)\n",
    "                {\n",
    "                Ej=Expert$Decision[Expert$Resource_ID==i]\n",
    "                if ((Ej>= 3 &  Dj>=3) )\n",
    "                    {\n",
    "                    A[kj,N]= A[kj,N]+1;A[N,kj]= A[N,kj]+1;\n",
    "                } \n",
    "                if ( (Ej< 3 &  Dj<3))\n",
    "                    {\n",
    "                    A[kj,N]= A[kj,N]+1;A[N,kj]= A[N,kj]+1;\n",
    "                } \n",
    "                \n",
    "                if ((Ej>= 3 &  Dj<3) ) \n",
    "                    {\n",
    "                    D[kj,N]= D[kj,N]+1;D[N,kj]= D[N,kj]+1;\n",
    "                }\n",
    "                if ((Ej< 3 &  Dj>=3) ) \n",
    "                    {\n",
    "                    D[kj,N]= D[kj,N]+1;D[N,kj]= D[N,kj]+1;\n",
    "                }\n",
    "            }\n",
    "        }\n",
    "        ########################### inferred decision on R\n",
    "        kj=match(users[n],u_id)\n",
    "        exclude[kj]=0\n",
    "        Dj=moderations$Decision[moderations$User_ID==users[n] & moderations$Resource_ID==i]\n",
    "        Win[n]=W[kj]\n",
    "        if (W[kj]>tauW & WT[kj]>tauWT & B[kj,N]>=tau)\n",
    "            {\n",
    "#                 neg=sum(moderations$Decision[moderations$User_ID==users[n] & moderations$Resource_ID %in% q_id [1:kq]]<3)\n",
    "#                 pos=sum(moderations$Decision[moderations$User_ID==users[n] & moderations$Resource_ID %in% q_id [1:kq]]>=3)\n",
    "                 if (Dj<3) {Neg[kj]= Neg[kj]+1; PN=(Pos[kj]+Neg[kj])/Neg[kj]}\n",
    "                if (Dj>=3) {Pos[kj]= Pos[kj]+1;PN=(Pos[kj]+Neg[kj])/Pos[kj]}\n",
    "                \n",
    "                PNj=pntrust(PN,.5) \n",
    "                si=si+Dj*(PNj*W[kj])* \n",
    "                (moderations$Words[moderations$User_ID==users[n] & moderations$Resource_ID==i])*\n",
    "                    (1+100*abs(moderations$similarity[moderations$User_ID==users[n] & moderations$Resource_ID==i]))\n",
    "                wi=wi+(PNj*W[kj])* \n",
    "                (moderations$Words[moderations$User_ID==users[n] & moderations$Resource_ID==i])*\n",
    "                    (1+100*abs(moderations$similarity[moderations$User_ID==users[n] & moderations$Resource_ID==i]))\n",
    "                            RhatN[kq]= RhatN[kq]+1 # number of decisions\n",
    "                            RhatW[kq]= wi # weight of decisions\n",
    "\n",
    "            }  # If Reliability User >0 AND sum trust*Relibility other users >0 ########################## DECISION\n",
    "      \n",
    "        Rhat[kq] = si/wi # inferred decision on R \n",
    "        RhatT[kq] = si/wi # inferred decision on R based on Users\n",
    "        if(wi==0)\n",
    "            {\n",
    "            Rhat[kq] = 0\n",
    "        RhatT[kq] = 0\n",
    "        }\n",
    "        Eimpact = max(Win) # no expert\n",
    "        if (i %in% Expert$Resource_ID)\n",
    "                {\n",
    "                Ej=Expert$Decision[Expert$Resource_ID==i]\n",
    "                if ((Ej>= 3 &  Dj>=3) )\n",
    "                    {\n",
    "                    A[kj,N]= A[kj,N]+1;A[N,kj]= A[N,kj]+1;\n",
    "                } \n",
    "                if ( (Ej< 3 &  Dj<3))\n",
    "                    {\n",
    "                    A[kj,N]= A[kj,N]+1;A[N,kj]= A[N,kj]+1;\n",
    "                } \n",
    "                \n",
    "                if ((Ej>= 3 &  Dj<3) ) \n",
    "                    {\n",
    "                    D[kj,N]= D[kj,N]+1;D[N,kj]= D[N,kj]+1;\n",
    "                }\n",
    "                if ((Ej< 3 &  Dj>=3) ) \n",
    "                    {\n",
    "                    D[kj,N]= D[kj,N]+1;D[N,kj]= D[N,kj]+1;\n",
    "                }\n",
    "            Rhat[kq] = Ej\n",
    "#             Eimpact = 1 # expert\n",
    "            }\n",
    "        Trust=trust((A-D),1) # Update trusts btw users\n",
    "        ########################### update user reliability\n",
    "        GRew=matrix(0,nrow=N ,ncol= 1 ) # Users' Gained Rewards\n",
    "        TC=matrix(0,nrow=N ,ncol= 1 ) # Connected Users\n",
    "        for(j in 1:n)\n",
    "            {\n",
    "            \n",
    "            kj = match(users[j],u_id)\n",
    "            TC=TC+abs(Trust[,kj])\n",
    "            Dj = moderations$Decision[moderations$User_ID==users[j] & moderations$Resource_ID==i]\n",
    "            Dl = Rhat[kq]\n",
    "            if ((Dl>= 3 &  Dj>=3) ) \n",
    "                {\n",
    "                \n",
    "                point= \n",
    "                reward(Dl-Dj,1,Eimpact*maxrew) * rdis(Dl,.1,.445) # Gain rewards * Resoource Discrimination\n",
    "                \n",
    "                } \n",
    "            if ( (Dl< 3 &  Dj<3)) \n",
    "                {\n",
    "                \n",
    "                point= \n",
    "                 reward(Dl-Dj,1,Eimpact*maxrew) * rdis(Dl,.1,.445) # Gain rewards * Resoource Discrimination\n",
    "                \n",
    "                } \n",
    "            \n",
    "            if ((Dl>= 3 &  Dj<3) ) \n",
    "                {\n",
    "                point= \n",
    "                punish(Dl-Dj,1,Eimpact*maxrew) * rdis(Dl,.1,.445) # Recieve Punishment * Resource Discrimination\n",
    "                }\n",
    "            if ((Dl< 3 &  Dj>=3) ) \n",
    "                {\n",
    "                point= \n",
    "                 punish(Dl-Dj,1,Eimpact*maxrew) * rdis(Dl,.1,.445) # Recieve Punishment * Resource Discrimination\n",
    "                }\n",
    "            GRew[kj] =  point\n",
    "        }\n",
    "        ########################### Propagation\n",
    "        others=exclude*c(u_id,1) # Remove current moderators\n",
    "        others[TC==0]=0 # Remove unconnected users\n",
    "        for (uc in others[others!=0]) # only connected users outside the supernode\n",
    "            {\n",
    "            kuc=match(uc,u_id)\n",
    "            relmax=W[kuc]\n",
    "            Tmax=0\n",
    "            for (um in users)\n",
    "                {\n",
    "                kum=match(um,u_id)\n",
    "                if (Trust[kuc,kum]!=0)\n",
    "                    {\n",
    "                    if (W[kum]>relmax)\n",
    "                        {\n",
    "                        relmax=W[kum]\n",
    "                        beta=.5\n",
    "                        if (i %in% Expert$Resource_ID)\n",
    "                        {\n",
    "                            beta=1\n",
    "                        }\n",
    "                        GRew[kuc] =  GRew[kum] * Trust[kuc,kum] *beta\n",
    "                        Tmax = abs(GRew[kuc])\n",
    "                    }\n",
    "                    if (W[kum]==relmax)\n",
    "                        {\n",
    "                        if (abs(GRew[kum] * Trust[kuc,kum])> Tmax)\n",
    "                            {\n",
    "                            relmax=W[kum]\n",
    "                             beta=.5\n",
    "                            if (i %in% Expert$Resource_ID)\n",
    "                            {\n",
    "                                beta=1\n",
    "                            }\n",
    "                            GRew[kuc] =  GRew[kum] * Trust[kuc,kum]* beta\n",
    "                            Tmax = abs(GRew[kuc])\n",
    "                        } \n",
    "                    }\n",
    "                }\n",
    "            }\n",
    "            \n",
    "            \n",
    "        }\n",
    "        if (i %in% Expert$Resource_ID)\n",
    "            {\n",
    "            others=exclude*c(u_id,1) # Remove current moderators\n",
    "            GRew[N]=reward(Dl-Dj,1,Eimpact*maxrew) * rdis(Dl,.1,.445) \n",
    "            beta=1\n",
    "            for (uc in others[others!=0]) # only connected users outside the supernode\n",
    "                {\n",
    "                kuc=match(uc,u_id)\n",
    "                if (Trust[kuc,N]!=0)\n",
    "                    {\n",
    "                    GRew[kuc] =  GRew[N] * Trust[kuc,N]* beta\n",
    "                    }\n",
    "                \n",
    "            }                  \n",
    "        }\n",
    "\n",
    "        Rew = Rew + GRew\n",
    "        W = scoreG(Rew,rel_teta) # update user reliability\n",
    "        W[N]=1 # Expert\n",
    "        WT =  (Trust %*% W)\n",
    "        kq=kq+1    \n",
    "    }\n",
    "    ##################################### Evaluation #####################################\n",
    "\n",
    "RQ=data.frame(q_id,RhatT)\n",
    "    inferred=vector()\n",
    "    k=1\n",
    "    for (i in Expert$Resource_ID)\n",
    "        {\n",
    "        inferred[k]=RQ$RhatT[RQ$q_id==i]\n",
    "        k=k+1\n",
    "    }\n",
    "results(Expert$Decision,inferred,3)"
   ]
  },
  {
   "cell_type": "code",
   "execution_count": 26,
   "metadata": {},
   "outputs": [],
   "source": [
    "NEUR2$Gbert=inferred"
   ]
  },
  {
   "cell_type": "code",
   "execution_count": 20,
   "metadata": {},
   "outputs": [],
   "source": [
    "write.csv(NEUR2,'NEUR2_Length_outcomes.csv', row.names=FALSE)"
   ]
  }
 ],
 "metadata": {
  "kernelspec": {
   "display_name": "R",
   "language": "R",
   "name": "ir"
  },
  "language_info": {
   "codemirror_mode": "r",
   "file_extension": ".r",
   "mimetype": "text/x-r-source",
   "name": "R",
   "pygments_lexer": "r",
   "version": "3.6.1"
  }
 },
 "nbformat": 4,
 "nbformat_minor": 4
}
